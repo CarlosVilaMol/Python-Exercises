{
 "cells": [
  {
   "cell_type": "code",
   "execution_count": null,
   "id": "c3aa29ac",
   "metadata": {},
   "outputs": [],
   "source": [
    "mail=\"carlosvilamol@gmail.com Barcelona\"\n",
    "\n",
    "posicion1=mail.find(\"@\")\n",
    "print (posicion1)\n",
    "\n",
    "posicion2=mail.find(\" \")\n",
    "print (posicion2)\n",
    "\n",
    "cuenta=mail[posicion1+1:posicion2]\n",
    "cuenta"
   ]
  },
  {
   "cell_type": "code",
   "execution_count": null,
   "id": "8d2d9ad9",
   "metadata": {},
   "outputs": [],
   "source": [
    "text = \"X-DSPAM-Confidence:    0.8475\"\n",
    "primera=text.find(\":\")\n",
    "ultima=text.find(\"5\")\n",
    "\n",
    "ejercicio=text[primera+1:ultima+1]\n",
    "\n",
    "ej_final=ejercicio.lstrip()\n",
    "\n",
    "ej_final=float (ej_final)\n",
    "\n",
    "\n",
    "print (ej_final)\n",
    "\n"
   ]
  },
  {
   "cell_type": "code",
   "execution_count": null,
   "id": "24445651",
   "metadata": {},
   "outputs": [],
   "source": [
    "fname = input(\"Enter file name: \")\n",
    "fh = open(fname)\n",
    "lst = list()\n",
    "for line in fh:\n",
    "    line=line.rstrip()\n",
    "    line=line.split()\n",
    "    lst=lst+line\n",
    "    \n",
    "lst.sort()\n",
    "lista=list()\n",
    "for i in lst:\n",
    "    if not i in lista:\n",
    "        lista.append(i)\n",
    "        \n",
    "print (lista)"
   ]
  },
  {
   "cell_type": "code",
   "execution_count": null,
   "id": "6a95346b",
   "metadata": {},
   "outputs": [],
   "source": [
    "fname = input(\"Enter file name: \")\n",
    "if len(fname) < 1:\n",
    "    fname = \"mbox-short.txt\"\n",
    "\n",
    "fh = open(fname)\n",
    "count = 0\n",
    "lista=list()\n",
    "for line in fh:\n",
    "    if not line.startswith (\"From\"):\n",
    "            continue\n",
    "    if line.startwith(\"From:\"):\n",
    "        continue\n",
    "    lista=line.split()\n",
    "    lista=lista[1]\n",
    "    print (lista)\n",
    "    for i in listrint (count)\n",
    "\n",
    "print (list)\n",
    "     \n",
    "\n",
    "print(\"There were\", count, \"lines in the file with From as the first word\")"
   ]
  },
  {
   "cell_type": "code",
   "execution_count": null,
   "id": "22719ace",
   "metadata": {},
   "outputs": [],
   "source": [
    "count = 0\n",
    "fname = input(\"Enter file name: \")\n",
    "fh = open(fname)\n",
    "lista=list()\n",
    "for line in fh:\n",
    "    if line.startswith (\"From\"):\n",
    "        if line.startswith (\"From: \"):\n",
    "            continue\n",
    "        else:\n",
    "            count=count+1\n",
    "            lista=line.split()\n",
    "            print (lista[1])\n",
    "print(\"There were\", count, \"lines in the file with From as the first word\")"
   ]
  },
  {
   "cell_type": "code",
   "execution_count": null,
   "id": "f9b0632c",
   "metadata": {},
   "outputs": [],
   "source": [
    "oportunidades=5\n",
    "numero= input(\"escribe un numero:\")\n",
    "\n",
    "while oportunidades !=0:\n",
    "    try:\n",
    "        numero1=int(numero)\n",
    "        print (numero, \" es un numero correcto\")\n",
    "        break;#IMPORTANTE PONER EL BREAK PARA CERRAR EL BUCLE\n",
    "\n",
    "    except:\n",
    "        print (\"numero incorrecto\")\n",
    "        oportunidades=oportunidades-1\n",
    "        print (\"tienes\", oportunidades, \"oportunidades\")\n",
    "        numero= input(\"escribe un numero:\")\n",
    "\n",
    "else:\n",
    "    print (\"se acabaron los oportunidades\")"
   ]
  },
  {
   "cell_type": "code",
   "execution_count": null,
   "id": "d185d96a",
   "metadata": {},
   "outputs": [],
   "source": [
    "hrs = input(\"Enter Hours:\")\n",
    "h = float(hrs)\n",
    "rate =input (\"enter rate:\")\n",
    "r = float(rate)\n",
    "if h<=40:\n",
    "    print (h*r)\n",
    "\n",
    "else:\n",
    "    print (420+(r*1.5)*(h-40))"
   ]
  },
  {
   "cell_type": "code",
   "execution_count": null,
   "id": "78e47602",
   "metadata": {},
   "outputs": [],
   "source": [
    "score = input(\"Enter Score: \")\n",
    "s=float(score)\n",
    "\n",
    "if s<0.0 or s>1.0:\n",
    "    print (\"error\")\n",
    "\n",
    "elif s>= 0.9:\n",
    "    print (\"A\")\n",
    "    \n",
    "elif s>= 0.8:\n",
    "    print (\"B\")\n",
    "\n",
    "elif s>= 0.7:\n",
    "    print (\"C\")\n",
    "\n",
    "elif s>= 0.6:\n",
    "    print (\"D\")\n",
    "    \n",
    "elif s< 0.6:\n",
    "    print (\"F\")"
   ]
  },
  {
   "cell_type": "code",
   "execution_count": null,
   "id": "597f036d",
   "metadata": {},
   "outputs": [],
   "source": [
    "numero_mas_largo=-1\n",
    "\n",
    "for mas_largo in [4,56,25,78,2,13,16,97]:\n",
    "    if mas_largo>numero_mas_largo:\n",
    "        numero_mas_largo=mas_largo\n",
    "print(\"el numero mas largo es: \",numero_mas_largo)"
   ]
  },
  {
   "cell_type": "code",
   "execution_count": null,
   "id": "941c7fa4",
   "metadata": {},
   "outputs": [],
   "source": [
    "contador=0\n",
    "suma=0\n",
    "print (\"antes\", contador, suma)\n",
    "for i in (23,43,56,63,87,36,4,67,87):\n",
    "    contador=contador+1\n",
    "    suma=suma+i\n",
    "    print (contador,suma,i)\n",
    "\n",
    "print (\"despues\", contador,suma)"
   ]
  },
  {
   "cell_type": "code",
   "execution_count": 47,
   "id": "4d3913d3",
   "metadata": {},
   "outputs": [
    {
     "name": "stdout",
     "output_type": "stream",
     "text": [
      "5 cwen@iupui.edu\n"
     ]
    }
   ],
   "source": [
    "texto=open (\"ejercicio python-Copy1.txt\")\n",
    "frasesutiles=list()\n",
    "\n",
    "for frase in texto:\n",
    "    if not frase.startswith (\"From:\"):\n",
    "        continue\n",
    "    else:\n",
    "        frase=frase.split()\n",
    "        frase=frase[1]\n",
    "        frasesutiles.append(frase)\n",
    "dicc=dict()\n",
    "for mail in frasesutiles:\n",
    "    dicc[mail]=dicc.get(mail,0)+1\n",
    "\n",
    "grancuenta=None\n",
    "granpalabra=None\n",
    "\n",
    "for palabra,cuenta in dicc.items():\n",
    "    if grancuenta==None or cuenta>grancuenta:\n",
    "        granpalabra=palabra\n",
    "        grancuenta=cuenta\n",
    "        \n",
    "print (grancuenta,granpalabra)\n"
   ]
  },
  {
   "cell_type": "code",
   "execution_count": null,
   "id": "8edafc6b",
   "metadata": {},
   "outputs": [],
   "source": [
    "people = ['Dr. Christopher Brooks', 'Dr. Kevyn Collins-Thompson', 'Dr. VG Vinod Vydiswaran', 'Dr. Daniel Romero']\n",
    "\n",
    "def split_title_and_name(person):\n",
    "    title = person.split()[0]\n",
    "    lastname = person.split()[-1]\n",
    "    return '{} {}'.format(title, lastname)\n",
    "\n",
    "list(map(split_title_and_name, people))"
   ]
  },
  {
   "cell_type": "code",
   "execution_count": 60,
   "id": "3141fe52",
   "metadata": {},
   "outputs": [
    {
     "name": "stdout",
     "output_type": "stream",
     "text": [
      "cwen@iupui.edu 5\n",
      "zqian@umich.edu 4\n",
      "david.horwitz@uct.ac.za 4\n",
      "louis@media.berkeley.edu 3\n",
      "gsilver@umich.edu 3\n"
     ]
    }
   ],
   "source": [
    "texto=open (\"ejercicio python-Copy1.txt\")\n",
    "frasesutiles=list()\n",
    "\n",
    "for frase in texto:\n",
    "    if not frase.startswith (\"From:\"):\n",
    "        continue\n",
    "    else:\n",
    "        frase=frase.split()\n",
    "        frase=frase[1]\n",
    "        frasesutiles.append(frase)\n",
    "dicc=dict()\n",
    "for mail in frasesutiles:\n",
    "    dicc[mail]=dicc.get(mail,0)+1\n",
    "#en el siguiente ejercicio se hace lo mismo pero de una fora comprimida para esta ultima parte\n",
    "lista=list()\n",
    "for k,v in dicc.items():\n",
    "    nuevo=(v,k)\n",
    "    lista.append(nuevo)\n",
    "\n",
    "lista=sorted (lista,reverse=True)\n",
    "for v,k in lista[:5]:\n",
    "    print(k,v)\n",
    "\n"
   ]
  },
  {
   "cell_type": "code",
   "execution_count": 63,
   "id": "678fa100",
   "metadata": {},
   "outputs": [
    {
     "name": "stdout",
     "output_type": "stream",
     "text": [
      "[(1, 'antranig@caret.cam.ac.uk'), (1, 'gopal.ramasammycook@gmail.com'), (1, 'ray@media.berkeley.edu'), (1, 'wagnermr@iupui.edu'), (2, 'rjlowe@iupui.edu'), (2, 'stephen.marquard@uct.ac.za'), (3, 'gsilver@umich.edu'), (3, 'louis@media.berkeley.edu'), (4, 'david.horwitz@uct.ac.za'), (4, 'zqian@umich.edu'), (5, 'cwen@iupui.edu')]\n"
     ]
    }
   ],
   "source": [
    "texto=open (\"ejercicio python-Copy1.txt\")\n",
    "frasesutiles=list()\n",
    "\n",
    "for frase in texto:\n",
    "    if not frase.startswith (\"From:\"):\n",
    "        continue\n",
    "    else:\n",
    "        frase=frase.split()\n",
    "        frase=frase[1]\n",
    "        frasesutiles.append(frase)\n",
    "dicc=dict()\n",
    "for mail in frasesutiles:\n",
    "    dicc[mail]=dicc.get(mail,0)+1\n",
    "\n",
    "print(sorted([(v,k) for k,v in dicc.items()]))#listas comprimidas, faltaria ordenarlo\n"
   ]
  },
  {
   "cell_type": "code",
   "execution_count": 97,
   "id": "fdcabe59",
   "metadata": {},
   "outputs": [
    {
     "name": "stdout",
     "output_type": "stream",
     "text": [
      "04 3\n",
      "06 1\n",
      "07 1\n",
      "09 2\n",
      "10 3\n",
      "11 6\n",
      "14 1\n",
      "15 2\n",
      "16 4\n",
      "17 2\n",
      "18 1\n",
      "19 1\n"
     ]
    }
   ],
   "source": [
    "texto=open (\"ejercicio python-Copy1.txt\")\n",
    "lista=list()\n",
    "for frase in texto:\n",
    "    if not frase.startswith(\"From\"):\n",
    "        continue\n",
    "    if frase.startswith (\"From:\"):\n",
    "        continue\n",
    "    palabra=frase.split()\n",
    "    palabra=palabra[-2]\n",
    "    palabra=palabra[:2]\n",
    "    lista.append(palabra)\n",
    "\n",
    "\n",
    "lista=sorted (lista)\n",
    "dicc=dict()\n",
    "for palabra in lista:\n",
    "    dicc[palabra]=dicc.get(palabra,0)+1\n",
    "\n",
    "for k,v in dicc.items():#IMPORTANTE LA FUNCIÓN DICCIONARIO.ITEMS() TE DEVUELVE UNA LISTA (KEY, VALUE) DE TUPLA\n",
    "    print (k,v)"
   ]
  },
  {
   "cell_type": "code",
   "execution_count": 98,
   "id": "2bb73f34",
   "metadata": {},
   "outputs": [
    {
     "name": "stdout",
     "output_type": "stream",
     "text": [
      "dict_items([('04', 3), ('06', 1), ('07', 1), ('09', 2), ('10', 3), ('11', 6), ('14', 1), ('15', 2), ('16', 4), ('17', 2), ('18', 1), ('19', 1)])\n"
     ]
    }
   ],
   "source": [
    "texto=open (\"ejercicio python-Copy1.txt\")\n",
    "lista=list()\n",
    "for frase in texto:\n",
    "    if not frase.startswith(\"From\"):\n",
    "        continue\n",
    "    if frase.startswith (\"From:\"):\n",
    "        continue\n",
    "    palabra=frase.split()\n",
    "    palabra=palabra[-2]\n",
    "    palabra=palabra[:2]\n",
    "    lista.append(palabra)\n",
    "\n",
    "\n",
    "lista=sorted (lista)\n",
    "dicc=dict()\n",
    "for palabra in lista:\n",
    "    dicc[palabra]=dicc.get(palabra,0)+1\n",
    "\n",
    "tupla=dicc.items()\n",
    "\n",
    "print (tupla)"
   ]
  },
  {
   "cell_type": "code",
   "execution_count": 85,
   "id": "3a076685",
   "metadata": {},
   "outputs": [
    {
     "name": "stdout",
     "output_type": "stream",
     "text": [
      "399399\n"
     ]
    }
   ],
   "source": [
    "import re\n",
    "\n",
    "texto=open(\"ejercicio.txt\")\n",
    "lista=list()\n",
    "numerofinal=int()\n",
    "for numeros in texto:\n",
    "    numeros=re.findall(\"[0-9]+\", numeros)\n",
    "    for num in numeros:\n",
    "        if num==[]:\n",
    "            continue\n",
    "        else:\n",
    "            numeros=int (num)\n",
    "            numerofinal=numerofinal+numeros\n",
    "\n",
    "print(numerofinal)     \n"
   ]
  },
  {
   "cell_type": "code",
   "execution_count": null,
   "id": "09fbf043",
   "metadata": {},
   "outputs": [],
   "source": [
    "from urllib.request import urlopen\n",
    "from bs4 import BeautifulSoup\n",
    "import ssl\n",
    "\n",
    "# Ignore SSL certificate errors\n",
    "ctx = ssl.create_default_context()\n",
    "ctx.check_hostname = False\n",
    "ctx.verify_mode = ssl.CERT_NONE\n",
    "\n",
    "url = input('Enter - ')\n",
    "html = urlopen(url, context=ctx).read()\n",
    "soup = BeautifulSoup(html, \"html.parser\")\n",
    "\n",
    "tags = soup('tr')\n",
    "\n",
    "tags=(str(tags))\n",
    "\n",
    "#IMPORTANTE: USE ESTA FUNCION PARA PODER SACAR LOS NUMEROS ENTEROS, YA QUE CON re.findall(\"[0-9]+\", numeros) ME LOS \n",
    "#SACABA SEPARADOS\n",
    "\n",
    "numeros=([float(s) for s in re.findall(r'-?\\d+\\.?\\d*', tags)]) \n",
    "  \n",
    "numeros=(list(numeros))\n",
    "    \n",
    "numerof=(sum(numeros)) \n",
    "\n",
    "print (numerof)"
   ]
  }
 ],
 "metadata": {
  "kernelspec": {
   "display_name": "Python 3 (ipykernel)",
   "language": "python",
   "name": "python3"
  },
  "language_info": {
   "codemirror_mode": {
    "name": "ipython",
    "version": 3
   },
   "file_extension": ".py",
   "mimetype": "text/x-python",
   "name": "python",
   "nbconvert_exporter": "python",
   "pygments_lexer": "ipython3",
   "version": "3.9.12"
  }
 },
 "nbformat": 4,
 "nbformat_minor": 5
}
