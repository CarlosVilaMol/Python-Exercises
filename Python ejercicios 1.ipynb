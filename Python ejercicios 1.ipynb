{
 "cells": [
  {
   "cell_type": "markdown",
   "id": "e30b37cc",
   "metadata": {},
   "source": [
    "EJERCICIOS BASICOS PYTHON"
   ]
  },
  {
   "cell_type": "markdown",
   "id": "cb02cc54",
   "metadata": {},
   "source": [
    "15/08/22"
   ]
  },
  {
   "cell_type": "markdown",
   "id": "55407732",
   "metadata": {},
   "source": [
    "Tipos de datos"
   ]
  },
  {
   "cell_type": "code",
   "execution_count": 1,
   "id": "985e3a94",
   "metadata": {},
   "outputs": [
    {
     "name": "stdout",
     "output_type": "stream",
     "text": [
      "<class 'tuple'>\n",
      "<class 'list'>\n",
      "<class 'str'>\n"
     ]
    }
   ],
   "source": [
    "tupla_1= (1,2,3,4, \"carlos\", \"c\", \"g\")\n",
    "lista_1= [1,2,3,4, \"lucia\"]\n",
    "cadena_1= \"soy una cadena creada por Carlos\"\n",
    "\n",
    "print (type(tupla_1))\n",
    "print (type (lista_1))\n",
    "print (type (cadena_1))"
   ]
  },
  {
   "cell_type": "code",
   "execution_count": 2,
   "id": "3cf60268",
   "metadata": {},
   "outputs": [
    {
     "name": "stdout",
     "output_type": "stream",
     "text": [
      "<class 'str'>\n",
      "<class 'int'>\n",
      "<class 'float'>\n",
      "<class 'bool'>\n"
     ]
    }
   ],
   "source": [
    "texto_1= \"soy un texto\"\n",
    "entero_1=100\n",
    "decimal_1=5.565656\n",
    "booleano_1= False\n",
    "\n",
    "print (type(texto_1))\n",
    "print (type (entero_1))\n",
    "print (type (decimal_1))\n",
    "print (type(booleano_1))"
   ]
  },
  {
   "cell_type": "code",
   "execution_count": 3,
   "id": "89924a0c",
   "metadata": {},
   "outputs": [
    {
     "name": "stdout",
     "output_type": "stream",
     "text": [
      "-->53197355B\n",
      "mi DNI es:53197355B\n"
     ]
    }
   ],
   "source": [
    "entrada_1=input(\"-->\")\n",
    "texto_1= \"mi DNI es:\"\n",
    "\n",
    "print (texto_1+entrada_1)"
   ]
  },
  {
   "cell_type": "markdown",
   "id": "ecffa5ef",
   "metadata": {},
   "source": [
    "Operaciones aritmeticas"
   ]
  },
  {
   "cell_type": "code",
   "execution_count": 6,
   "id": "5a51bc85",
   "metadata": {},
   "outputs": [
    {
     "name": "stdout",
     "output_type": "stream",
     "text": [
      "9\n",
      "25\n",
      "6.5\n",
      "3\n",
      "3.0\n"
     ]
    }
   ],
   "source": [
    "a= 2+7\n",
    "b=5**2\n",
    "c=26/4\n",
    "d=33%5\n",
    "e=b//c\n",
    "\n",
    "print (a)\n",
    "print (b)\n",
    "print (c)\n",
    "print (d)\n",
    "print (e)"
   ]
  },
  {
   "cell_type": "code",
   "execution_count": 9,
   "id": "0ae20043",
   "metadata": {},
   "outputs": [
    {
     "name": "stdout",
     "output_type": "stream",
     "text": [
      "False\n",
      "True\n",
      "True\n",
      "False\n"
     ]
    }
   ],
   "source": [
    "b=15\n",
    "\n",
    "print (a==b)\n",
    "print (a!=b)\n",
    "print (c<b)\n",
    "print (c>b)"
   ]
  },
  {
   "cell_type": "code",
   "execution_count": 10,
   "id": "b79072ac",
   "metadata": {},
   "outputs": [
    {
     "data": {
      "text/plain": [
       "False"
      ]
     },
     "execution_count": 10,
     "metadata": {},
     "output_type": "execute_result"
    }
   ],
   "source": [
    "a<b and b<c"
   ]
  },
  {
   "cell_type": "code",
   "execution_count": 11,
   "id": "fe719c30",
   "metadata": {},
   "outputs": [
    {
     "data": {
      "text/plain": [
       "False"
      ]
     },
     "execution_count": 11,
     "metadata": {},
     "output_type": "execute_result"
    }
   ],
   "source": [
    "a>b or b<c"
   ]
  },
  {
   "cell_type": "code",
   "execution_count": 12,
   "id": "1f221756",
   "metadata": {},
   "outputs": [
    {
     "data": {
      "text/plain": [
       "True"
      ]
     },
     "execution_count": 12,
     "metadata": {},
     "output_type": "execute_result"
    }
   ],
   "source": [
    "a<b or b<c"
   ]
  },
  {
   "cell_type": "code",
   "execution_count": 13,
   "id": "822e534b",
   "metadata": {},
   "outputs": [
    {
     "name": "stdout",
     "output_type": "stream",
     "text": [
      "2\n",
      "4\n",
      "1\n",
      "carlos\n",
      "2\n",
      "4\n"
     ]
    }
   ],
   "source": [
    "print (tupla_1[1])\n",
    "print (tupla_1[3])\n",
    "print (tupla_1[0])\n",
    "print (tupla_1[4])\n",
    "print (lista_1[1])\n",
    "print (lista_1[3])"
   ]
  },
  {
   "cell_type": "markdown",
   "id": "34aef979",
   "metadata": {},
   "source": [
    "Selección y cambio de valores en una lista"
   ]
  },
  {
   "cell_type": "code",
   "execution_count": 14,
   "id": "04ecb09c",
   "metadata": {},
   "outputs": [
    {
     "name": "stdout",
     "output_type": "stream",
     "text": [
      "genial\n"
     ]
    }
   ],
   "source": [
    "lista_1[3]=\"genial\"\n",
    "\n",
    "print (lista_1[3])"
   ]
  },
  {
   "cell_type": "code",
   "execution_count": 16,
   "id": "18270f09",
   "metadata": {},
   "outputs": [
    {
     "name": "stdout",
     "output_type": "stream",
     "text": [
      "[1, 'si, joder', 3, 'genial', 'lucia']\n",
      "si, joder\n"
     ]
    }
   ],
   "source": [
    "lista_1[1]=\"si, joder\"\n",
    "\n",
    "print (lista_1)\n",
    "print (lista_1[1])"
   ]
  },
  {
   "cell_type": "code",
   "execution_count": 20,
   "id": "41adfcab",
   "metadata": {},
   "outputs": [
    {
     "name": "stdout",
     "output_type": "stream",
     "text": [
      "Carlos Vila\n"
     ]
    }
   ],
   "source": [
    "tupla_1=(list(tupla_1))\n",
    "\n",
    "tupla_1[4]=\"Carlos Vila\"\n",
    "\n",
    "print (tupla_1[4])"
   ]
  },
  {
   "cell_type": "code",
   "execution_count": 21,
   "id": "1d6d1a44",
   "metadata": {},
   "outputs": [
    {
     "name": "stdout",
     "output_type": "stream",
     "text": [
      "u\n",
      "['s', 'o', 'y', 'u', 'u', 'n', 'a', ' ', 'c', 'a', 'd', 'e', 'n', 'a', ' ', 'c', 'r', 'e', 'a', 'd', 'a', ' ', 'p', 'o', 'r', ' ', 'C', 'a', 'r', 'l', 'o', 's']\n"
     ]
    }
   ],
   "source": [
    "cadena_1= (list(cadena_1))\n",
    "\n",
    "cadena_1[3]=\"u\"\n",
    "\n",
    "print (cadena_1[3])\n",
    "print (cadena_1)"
   ]
  },
  {
   "cell_type": "code",
   "execution_count": 22,
   "id": "f99d3848",
   "metadata": {},
   "outputs": [
    {
     "name": "stdout",
     "output_type": "stream",
     "text": [
      "[1, 2, 3, 4, 'Carlos Vila', 'c', 'g', 1, 'si, joder', 3, 'genial', 'lucia']\n"
     ]
    }
   ],
   "source": [
    "secuencia_1= tupla_1+lista_1\n",
    "print (secuencia_1)"
   ]
  },
  {
   "cell_type": "code",
   "execution_count": 23,
   "id": "69811cc1",
   "metadata": {},
   "outputs": [
    {
     "data": {
      "text/plain": [
       "[1,\n",
       " 2,\n",
       " 3,\n",
       " 4,\n",
       " 'Carlos Vila',\n",
       " 'c',\n",
       " 'g',\n",
       " 1,\n",
       " 'si, joder',\n",
       " 3,\n",
       " 'genial',\n",
       " 'lucia',\n",
       " 1,\n",
       " 2,\n",
       " 3,\n",
       " 4,\n",
       " 'Carlos Vila',\n",
       " 'c',\n",
       " 'g',\n",
       " 1,\n",
       " 'si, joder',\n",
       " 3,\n",
       " 'genial',\n",
       " 'lucia']"
      ]
     },
     "execution_count": 23,
     "metadata": {},
     "output_type": "execute_result"
    }
   ],
   "source": [
    "secuencia_1*2"
   ]
  },
  {
   "cell_type": "code",
   "execution_count": 24,
   "id": "16b2a0a0",
   "metadata": {},
   "outputs": [
    {
     "name": "stdout",
     "output_type": "stream",
     "text": [
      "[1, 2, 3, 4, 'Carlos Vila', 'c', 'g', 1, 'si, joder', 3, 'genial', 'lucia', 1, 2, 3, 4, 'Carlos Vila', 'c', 'g', 1, 'si, joder', 3, 'genial', 'lucia']\n"
     ]
    }
   ],
   "source": [
    "secuencia_2=secuencia_1*2\n",
    "\n",
    "print (secuencia_2)"
   ]
  },
  {
   "cell_type": "code",
   "execution_count": 25,
   "id": "94804636",
   "metadata": {},
   "outputs": [
    {
     "name": "stdout",
     "output_type": "stream",
     "text": [
      "False\n",
      "True\n",
      "False\n",
      "True\n"
     ]
    }
   ],
   "source": [
    "print (6 in tupla_1)\n",
    "print (\"Carlos Vila\" in secuencia_2)\n",
    "print (\"lucia\" in tupla_1)\n",
    "print (\"d\" in cadena_1)"
   ]
  },
  {
   "cell_type": "code",
   "execution_count": 28,
   "id": "2d01153d",
   "metadata": {},
   "outputs": [
    {
     "name": "stdout",
     "output_type": "stream",
     "text": [
      "[3, 'Carlos Vila', 'g', 'si, joder', 'genial', 1, 3, 'Carlos Vila', 'g', 'si, joder', 'genial']\n"
     ]
    }
   ],
   "source": [
    "print (secuencia_2[2::2])"
   ]
  },
  {
   "cell_type": "code",
   "execution_count": 29,
   "id": "356db60f",
   "metadata": {},
   "outputs": [
    {
     "name": "stdout",
     "output_type": "stream",
     "text": [
      "['g', 'c', 'Carlos Vila', 4, 3, 2, 1]\n"
     ]
    }
   ],
   "source": [
    "print (tupla_1[::-1])"
   ]
  },
  {
   "cell_type": "code",
   "execution_count": 30,
   "id": "e9ae5709",
   "metadata": {},
   "outputs": [
    {
     "name": "stdout",
     "output_type": "stream",
     "text": [
      "7\n"
     ]
    }
   ],
   "source": [
    "print (len(tupla_1))"
   ]
  },
  {
   "cell_type": "code",
   "execution_count": 35,
   "id": "fa519e34",
   "metadata": {},
   "outputs": [
    {
     "name": "stdout",
     "output_type": "stream",
     "text": [
      "2\n"
     ]
    }
   ],
   "source": [
    "print (tupla_1.index(3))"
   ]
  },
  {
   "cell_type": "code",
   "execution_count": 36,
   "id": "be73e464",
   "metadata": {},
   "outputs": [
    {
     "name": "stdout",
     "output_type": "stream",
     "text": [
      "3\n",
      "2\n",
      "5\n",
      "2\n"
     ]
    }
   ],
   "source": [
    "lista_2= 1,1,1,3,3,4,4,4,4,4,7,7\n",
    "\n",
    "print (lista_2.count(1))\n",
    "print (lista_2.count(3))\n",
    "print (lista_2.count(4))\n",
    "print (lista_2.count(7))"
   ]
  },
  {
   "cell_type": "code",
   "execution_count": 37,
   "id": "ce2266ea",
   "metadata": {},
   "outputs": [
    {
     "name": "stdout",
     "output_type": "stream",
     "text": [
      "carlos\n",
      "sergio\n",
      "dani\n",
      "pol\n"
     ]
    }
   ],
   "source": [
    "lista_3= \"carlos\", \"sergio\", \"dani\", \"pol\"\n",
    "\n",
    "el1,el2,el3,el4= lista_3\n",
    "\n",
    "print (el1)\n",
    "print (el2)\n",
    "print (el3)\n",
    "print (el4)\n"
   ]
  },
  {
   "cell_type": "code",
   "execution_count": 42,
   "id": "9c22bd8b",
   "metadata": {},
   "outputs": [
    {
     "name": "stdout",
     "output_type": "stream",
     "text": [
      "[('carlos', 1), ('sergio', 2), ('dani', 3), ('pol', 4)]\n"
     ]
    }
   ],
   "source": [
    "lista_4= 1,2,3,4\n",
    "\n",
    "lista_5=(zip(lista_3,lista_4))\n",
    "print (list(lista_5))"
   ]
  },
  {
   "cell_type": "code",
   "execution_count": 47,
   "id": "c4bf7b25",
   "metadata": {},
   "outputs": [
    {
     "name": "stdout",
     "output_type": "stream",
     "text": [
      "range(5, 20, 3)\n",
      "[5, 8, 11, 14, 17]\n"
     ]
    }
   ],
   "source": [
    "lista1= (range(5,20,3))\n",
    "\n",
    "print (lista1)\n",
    "print (list(lista1))"
   ]
  },
  {
   "cell_type": "code",
   "execution_count": 51,
   "id": "e4324c58",
   "metadata": {},
   "outputs": [
    {
     "name": "stdout",
     "output_type": "stream",
     "text": [
      "<class 'range'>\n"
     ]
    }
   ],
   "source": [
    "lista2=(range(10))\n",
    "print (type(lista2))"
   ]
  },
  {
   "cell_type": "code",
   "execution_count": 54,
   "id": "0a84ce98",
   "metadata": {},
   "outputs": [
    {
     "name": "stdout",
     "output_type": "stream",
     "text": [
      "[0, 1, 2, 3, 4, 5, 6, 7, 8, 9]\n"
     ]
    }
   ],
   "source": [
    "lista2= (list(lista2))\n",
    "print (lista2)"
   ]
  },
  {
   "cell_type": "code",
   "execution_count": 58,
   "id": "a9510f4f",
   "metadata": {},
   "outputs": [
    {
     "name": "stdout",
     "output_type": "stream",
     "text": [
      "[0, 1, 2, 'lucia', 3, 4, 5, 6, 7, 8, 9, 'carlos', 'carlos', 'carlos']\n"
     ]
    }
   ],
   "source": [
    "lista2.append(\"carlos\")\n",
    "\n",
    "lista2.insert(3,\"lucia\")\n",
    "\n",
    "print (lista2)"
   ]
  },
  {
   "cell_type": "markdown",
   "id": "80a91b60",
   "metadata": {},
   "source": [
    "Diccionarios"
   ]
  },
  {
   "cell_type": "code",
   "execution_count": 1,
   "id": "852d9256",
   "metadata": {},
   "outputs": [
    {
     "data": {
      "text/plain": [
       "{'nombre': 'carlos', 'apellido': 'vila', 'pais': 'españa', 'DIN': '53197355B'}"
      ]
     },
     "execution_count": 1,
     "metadata": {},
     "output_type": "execute_result"
    }
   ],
   "source": [
    "dicc={\"nombre\":\"carlos\", \"apellido\":\"vila\", \"pais\": \"españa\", \"DIN\":\"53197355B\"}\n",
    "dicc"
   ]
  },
  {
   "cell_type": "code",
   "execution_count": 2,
   "id": "472df77b",
   "metadata": {},
   "outputs": [
    {
     "data": {
      "text/plain": [
       "dict_keys(['nombre', 'apellido', 'pais', 'DIN'])"
      ]
     },
     "execution_count": 2,
     "metadata": {},
     "output_type": "execute_result"
    }
   ],
   "source": [
    "dicc.keys()"
   ]
  },
  {
   "cell_type": "code",
   "execution_count": 3,
   "id": "14da9d6c",
   "metadata": {},
   "outputs": [
    {
     "data": {
      "text/plain": [
       "dict_values(['carlos', 'vila', 'españa', '53197355B'])"
      ]
     },
     "execution_count": 3,
     "metadata": {},
     "output_type": "execute_result"
    }
   ],
   "source": [
    "dicc.values()"
   ]
  },
  {
   "cell_type": "code",
   "execution_count": 8,
   "id": "ba4d8c14",
   "metadata": {},
   "outputs": [
    {
     "data": {
      "text/plain": [
       "{'nombre': 'carlos',\n",
       " 'apellido': 'vila',\n",
       " 'pais': 'españa',\n",
       " 'DIN': '53197355B',\n",
       " 'sexo': 'hombre'}"
      ]
     },
     "execution_count": 8,
     "metadata": {},
     "output_type": "execute_result"
    }
   ],
   "source": [
    "dicc[\"sexo\"]=\"hombre\"\n",
    "dicc"
   ]
  },
  {
   "cell_type": "code",
   "execution_count": 11,
   "id": "d1fcf668",
   "metadata": {},
   "outputs": [
    {
     "data": {
      "text/plain": [
       "{'nombre': 'carlos',\n",
       " 'apellido': 'vila',\n",
       " 'pais': 'cataluñá',\n",
       " 'DIN': '53197355B',\n",
       " 'sexo': 'hombre'}"
      ]
     },
     "execution_count": 11,
     "metadata": {},
     "output_type": "execute_result"
    }
   ],
   "source": [
    "dicc.update({\"pais\":\"cataluñá\"})\n",
    "dicc"
   ]
  },
  {
   "cell_type": "markdown",
   "id": "cbb4b683",
   "metadata": {},
   "source": [
    "Conjuntos"
   ]
  },
  {
   "cell_type": "code",
   "execution_count": 13,
   "id": "f0dba110",
   "metadata": {},
   "outputs": [
    {
     "data": {
      "text/plain": [
       "{1, 2, 3, 4, 5, 6}"
      ]
     },
     "execution_count": 13,
     "metadata": {},
     "output_type": "execute_result"
    }
   ],
   "source": [
    "conj= {1,2,3,4,5,6}\n",
    "conj"
   ]
  },
  {
   "cell_type": "code",
   "execution_count": 17,
   "id": "c245a4c7",
   "metadata": {},
   "outputs": [
    {
     "name": "stdout",
     "output_type": "stream",
     "text": [
      "{1, 2, 3}\n",
      "{8, 9, 7}\n",
      "{1, 2, 3, 4, 5, 6, 7, 8, 9}\n",
      "{4, 5, 6}\n",
      "{1, 2, 3, 7, 8, 9}\n"
     ]
    }
   ],
   "source": [
    "conj2={4,5,6,7,8,9}\n",
    "print (conj-conj2)\n",
    "print (conj2-conj)\n",
    "print (conj|conj2)\n",
    "print (conj&conj2)\n",
    "print (conj^conj2)"
   ]
  },
  {
   "cell_type": "code",
   "execution_count": 19,
   "id": "0349f879",
   "metadata": {},
   "outputs": [
    {
     "name": "stdout",
     "output_type": "stream",
     "text": [
      "True\n",
      "False\n"
     ]
    }
   ],
   "source": [
    "print (2 in conj)\n",
    "print (2 in conj2)"
   ]
  },
  {
   "cell_type": "code",
   "execution_count": 24,
   "id": "4f4d50eb",
   "metadata": {},
   "outputs": [
    {
     "name": "stdout",
     "output_type": "stream",
     "text": [
      "False\n",
      "True\n",
      "False\n"
     ]
    }
   ],
   "source": [
    "conj3=conj|conj2\n",
    "print (conj>=conj3)\n",
    "print (conj<=conj3)\n",
    "print (conj>=conj2)"
   ]
  },
  {
   "cell_type": "code",
   "execution_count": 25,
   "id": "2cf4403d",
   "metadata": {},
   "outputs": [
    {
     "data": {
      "text/plain": [
       "{1, 3, 4, 5, 6}"
      ]
     },
     "execution_count": 25,
     "metadata": {},
     "output_type": "execute_result"
    }
   ],
   "source": [
    "conj.remove(2)\n",
    "conj"
   ]
  },
  {
   "cell_type": "code",
   "execution_count": 27,
   "id": "27d751ad",
   "metadata": {},
   "outputs": [
    {
     "data": {
      "text/plain": [
       "{4, 5, 6, 8, 9}"
      ]
     },
     "execution_count": 27,
     "metadata": {},
     "output_type": "execute_result"
    }
   ],
   "source": [
    "conj2.remove(7)\n",
    "conj2"
   ]
  },
  {
   "cell_type": "markdown",
   "id": "7a12cc79",
   "metadata": {},
   "source": [
    "condicionantes (if, elif,else)"
   ]
  },
  {
   "cell_type": "code",
   "execution_count": 29,
   "id": "d372cc74",
   "metadata": {},
   "outputs": [
    {
     "name": "stdout",
     "output_type": "stream",
     "text": [
      "lucia es mayor\n"
     ]
    }
   ],
   "source": [
    "edadc=30\n",
    "edadl=34\n",
    "\n",
    "if edadc<edadl:\n",
    "    print(\"lucia es mayor\")"
   ]
  },
  {
   "cell_type": "code",
   "execution_count": 30,
   "id": "01eea5da",
   "metadata": {},
   "outputs": [
    {
     "name": "stdout",
     "output_type": "stream",
     "text": [
      "carlos es menor\n"
     ]
    }
   ],
   "source": [
    "if edadc>edadl:\n",
    "    print(\"lucia es mayor\")\n",
    "\n",
    "else:\n",
    "    print (\"carlos es menor\")"
   ]
  },
  {
   "cell_type": "code",
   "execution_count": 32,
   "id": "d1c92263",
   "metadata": {},
   "outputs": [
    {
     "name": "stdout",
     "output_type": "stream",
     "text": [
      "lucia es mayor pero no tanto\n"
     ]
    }
   ],
   "source": [
    "if edadc>edadl:\n",
    "    print(\"lucia es mayor\")\n",
    "\n",
    "elif edadl<35:\n",
    "    print (\"lucia es mayor pero no tanto\")\n",
    "\n",
    "else:\n",
    "    print (\"carlos es menor\")"
   ]
  },
  {
   "cell_type": "markdown",
   "id": "b2c1ced9",
   "metadata": {},
   "source": [
    "BUCLES FOR"
   ]
  },
  {
   "cell_type": "code",
   "execution_count": 35,
   "id": "f7c7af35",
   "metadata": {},
   "outputs": [
    {
     "name": "stdout",
     "output_type": "stream",
     "text": [
      "el numero i es: 0\n",
      "el numero i es: 1\n",
      "el numero i es: 2\n",
      "el numero i es: 3\n",
      "el numero i es: 4\n"
     ]
    }
   ],
   "source": [
    "for i in range (0,5):                #for in sirve para crear bucles\n",
    "    print (\"el numero i es:\", i)"
   ]
  },
  {
   "cell_type": "code",
   "execution_count": 38,
   "id": "c1279b45",
   "metadata": {},
   "outputs": [
    {
     "name": "stdout",
     "output_type": "stream",
     "text": [
      "españa\n",
      "portugal\n",
      "francia\n",
      "italia\n"
     ]
    }
   ],
   "source": [
    "paises= [\"españa\", \"portugal\", \"francia\", \"italia\"]\n",
    "\n",
    "for pais in paises:\n",
    "    print (pais)"
   ]
  },
  {
   "cell_type": "code",
   "execution_count": 39,
   "id": "0ba897af",
   "metadata": {},
   "outputs": [
    {
     "name": "stdout",
     "output_type": "stream",
     "text": [
      "['españa', 'portugal', 'francia', 'italia']\n",
      "['españa', 'portugal', 'francia', 'italia']\n",
      "['españa', 'portugal', 'francia', 'italia']\n",
      "['españa', 'portugal', 'francia', 'italia']\n"
     ]
    }
   ],
   "source": [
    "for pais in paises:\n",
    "    print (paises)"
   ]
  },
  {
   "cell_type": "code",
   "execution_count": 40,
   "id": "8cc8ad8b",
   "metadata": {},
   "outputs": [
    {
     "name": "stdout",
     "output_type": "stream",
     "text": [
      "nombre\n",
      "apellido\n",
      "pais\n",
      "DIN\n",
      "sexo\n"
     ]
    }
   ],
   "source": [
    "for key in dicc:\n",
    "    print (key)"
   ]
  },
  {
   "cell_type": "code",
   "execution_count": 8,
   "id": "79779000",
   "metadata": {},
   "outputs": [
    {
     "name": "stdout",
     "output_type": "stream",
     "text": [
      "introduce tu mail:carlos.gm\n",
      "el mail es correcto\n"
     ]
    }
   ],
   "source": [
    "mail=False\n",
    "mymail=input (\"introduce tu mail:\")\n",
    "\n",
    "for i in mymail:\n",
    "    if i==\"@\" or i ==\".\":\n",
    "        mail=True\n",
    "\n",
    "if mail==True:#si no ponemos nada sobreentiende que es verdadero\n",
    "    print (\"el mail es correcto\")\n",
    "\n",
    "else:\n",
    "    print (\"el mail es incorrecto\")\n"
   ]
  },
  {
   "cell_type": "code",
   "execution_count": 42,
   "id": "0be3dd93",
   "metadata": {},
   "outputs": [
    {
     "data": {
      "text/plain": [
       "8"
      ]
     },
     "execution_count": 42,
     "metadata": {},
     "output_type": "execute_result"
    }
   ],
   "source": [
    "def fun (a,b):\n",
    "    x=a-b\n",
    "    return x\n",
    "fun (12,4)"
   ]
  },
  {
   "cell_type": "markdown",
   "id": "ddf53ab9",
   "metadata": {},
   "source": [
    "BASES DE DATOS"
   ]
  },
  {
   "cell_type": "code",
   "execution_count": 43,
   "id": "024a646f",
   "metadata": {},
   "outputs": [],
   "source": [
    "import pandas as pd\n",
    "import numpy as np"
   ]
  },
  {
   "cell_type": "code",
   "execution_count": 46,
   "id": "1bddbf2b",
   "metadata": {},
   "outputs": [
    {
     "data": {
      "text/plain": [
       "array([[ 1,  3],\n",
       "       [ 5,  6],\n",
       "       [22,  3],\n",
       "       [23, 81]])"
      ]
     },
     "execution_count": 46,
     "metadata": {},
     "output_type": "execute_result"
    }
   ],
   "source": [
    "tabla=np.array ([[1,3],[5,6],[22,3],[23,81]])\n",
    "tabla"
   ]
  },
  {
   "cell_type": "code",
   "execution_count": 47,
   "id": "6248cfef",
   "metadata": {},
   "outputs": [
    {
     "data": {
      "text/html": [
       "<div>\n",
       "<style scoped>\n",
       "    .dataframe tbody tr th:only-of-type {\n",
       "        vertical-align: middle;\n",
       "    }\n",
       "\n",
       "    .dataframe tbody tr th {\n",
       "        vertical-align: top;\n",
       "    }\n",
       "\n",
       "    .dataframe thead th {\n",
       "        text-align: right;\n",
       "    }\n",
       "</style>\n",
       "<table border=\"1\" class=\"dataframe\">\n",
       "  <thead>\n",
       "    <tr style=\"text-align: right;\">\n",
       "      <th></th>\n",
       "      <th>0</th>\n",
       "      <th>1</th>\n",
       "    </tr>\n",
       "  </thead>\n",
       "  <tbody>\n",
       "    <tr>\n",
       "      <th>0</th>\n",
       "      <td>1</td>\n",
       "      <td>3</td>\n",
       "    </tr>\n",
       "    <tr>\n",
       "      <th>1</th>\n",
       "      <td>5</td>\n",
       "      <td>6</td>\n",
       "    </tr>\n",
       "    <tr>\n",
       "      <th>2</th>\n",
       "      <td>22</td>\n",
       "      <td>3</td>\n",
       "    </tr>\n",
       "    <tr>\n",
       "      <th>3</th>\n",
       "      <td>23</td>\n",
       "      <td>81</td>\n",
       "    </tr>\n",
       "  </tbody>\n",
       "</table>\n",
       "</div>"
      ],
      "text/plain": [
       "    0   1\n",
       "0   1   3\n",
       "1   5   6\n",
       "2  22   3\n",
       "3  23  81"
      ]
     },
     "execution_count": 47,
     "metadata": {},
     "output_type": "execute_result"
    }
   ],
   "source": [
    "pd.DataFrame (tabla)"
   ]
  },
  {
   "cell_type": "code",
   "execution_count": 49,
   "id": "8db43bb2",
   "metadata": {},
   "outputs": [
    {
     "data": {
      "text/html": [
       "<div>\n",
       "<style scoped>\n",
       "    .dataframe tbody tr th:only-of-type {\n",
       "        vertical-align: middle;\n",
       "    }\n",
       "\n",
       "    .dataframe tbody tr th {\n",
       "        vertical-align: top;\n",
       "    }\n",
       "\n",
       "    .dataframe thead th {\n",
       "        text-align: right;\n",
       "    }\n",
       "</style>\n",
       "<table border=\"1\" class=\"dataframe\">\n",
       "  <thead>\n",
       "    <tr style=\"text-align: right;\">\n",
       "      <th></th>\n",
       "      <th>column 1</th>\n",
       "      <th>column 2</th>\n",
       "    </tr>\n",
       "  </thead>\n",
       "  <tbody>\n",
       "    <tr>\n",
       "      <th>fila 1</th>\n",
       "      <td>1</td>\n",
       "      <td>3</td>\n",
       "    </tr>\n",
       "    <tr>\n",
       "      <th>fila 2</th>\n",
       "      <td>5</td>\n",
       "      <td>6</td>\n",
       "    </tr>\n",
       "    <tr>\n",
       "      <th>fila 3</th>\n",
       "      <td>22</td>\n",
       "      <td>3</td>\n",
       "    </tr>\n",
       "    <tr>\n",
       "      <th>fila 4</th>\n",
       "      <td>23</td>\n",
       "      <td>81</td>\n",
       "    </tr>\n",
       "  </tbody>\n",
       "</table>\n",
       "</div>"
      ],
      "text/plain": [
       "        column 1  column 2\n",
       "fila 1         1         3\n",
       "fila 2         5         6\n",
       "fila 3        22         3\n",
       "fila 4        23        81"
      ]
     },
     "execution_count": 49,
     "metadata": {},
     "output_type": "execute_result"
    }
   ],
   "source": [
    "pd.DataFrame (tabla, index= [\"fila 1\",\"fila 2\", \"fila 3\", \"fila 4\"], columns= [\"column 1\", \"column 2\"])"
   ]
  },
  {
   "cell_type": "code",
   "execution_count": 53,
   "id": "d985117c",
   "metadata": {},
   "outputs": [],
   "source": [
    "tabla_2= ([2,4], [22,56], [88,34])\n",
    "tabla_2=pd.DataFrame (tabla_2, index= [\"luca\",\"olga\", \"laura\"], columns= [\"peso\", \"altura\"])"
   ]
  },
  {
   "cell_type": "code",
   "execution_count": 54,
   "id": "670822ed",
   "metadata": {},
   "outputs": [
    {
     "data": {
      "text/html": [
       "<div>\n",
       "<style scoped>\n",
       "    .dataframe tbody tr th:only-of-type {\n",
       "        vertical-align: middle;\n",
       "    }\n",
       "\n",
       "    .dataframe tbody tr th {\n",
       "        vertical-align: top;\n",
       "    }\n",
       "\n",
       "    .dataframe thead th {\n",
       "        text-align: right;\n",
       "    }\n",
       "</style>\n",
       "<table border=\"1\" class=\"dataframe\">\n",
       "  <thead>\n",
       "    <tr style=\"text-align: right;\">\n",
       "      <th></th>\n",
       "      <th>peso</th>\n",
       "      <th>altura</th>\n",
       "    </tr>\n",
       "  </thead>\n",
       "  <tbody>\n",
       "    <tr>\n",
       "      <th>luca</th>\n",
       "      <td>2</td>\n",
       "      <td>4</td>\n",
       "    </tr>\n",
       "    <tr>\n",
       "      <th>olga</th>\n",
       "      <td>22</td>\n",
       "      <td>56</td>\n",
       "    </tr>\n",
       "    <tr>\n",
       "      <th>laura</th>\n",
       "      <td>88</td>\n",
       "      <td>34</td>\n",
       "    </tr>\n",
       "  </tbody>\n",
       "</table>\n",
       "</div>"
      ],
      "text/plain": [
       "       peso  altura\n",
       "luca      2       4\n",
       "olga     22      56\n",
       "laura    88      34"
      ]
     },
     "execution_count": 54,
     "metadata": {},
     "output_type": "execute_result"
    }
   ],
   "source": [
    "tabla_2"
   ]
  },
  {
   "cell_type": "code",
   "execution_count": 56,
   "id": "f2b2cdd7",
   "metadata": {},
   "outputs": [
    {
     "data": {
      "text/plain": [
       "['españa', 'portugal', 'francia', 'italia']"
      ]
     },
     "execution_count": 56,
     "metadata": {},
     "output_type": "execute_result"
    }
   ],
   "source": [
    "paises"
   ]
  },
  {
   "cell_type": "code",
   "execution_count": 58,
   "id": "c5cd95fe",
   "metadata": {},
   "outputs": [
    {
     "data": {
      "text/plain": [
       "{'paises': ['españa', 'portugal', 'francia', 'italia'],\n",
       " 'población': ['45M', '30M', '50M', '68M']}"
      ]
     },
     "execution_count": 58,
     "metadata": {},
     "output_type": "execute_result"
    }
   ],
   "source": [
    "población= [\"45M\", \"30M\", \"50M\", \"68M\"]\n",
    "\n",
    "dicc2={\"paises\":paises, \"población\":población}\n",
    "\n",
    "dicc2"
   ]
  },
  {
   "cell_type": "code",
   "execution_count": 60,
   "id": "e61585b7",
   "metadata": {},
   "outputs": [
    {
     "data": {
      "text/html": [
       "<div>\n",
       "<style scoped>\n",
       "    .dataframe tbody tr th:only-of-type {\n",
       "        vertical-align: middle;\n",
       "    }\n",
       "\n",
       "    .dataframe tbody tr th {\n",
       "        vertical-align: top;\n",
       "    }\n",
       "\n",
       "    .dataframe thead th {\n",
       "        text-align: right;\n",
       "    }\n",
       "</style>\n",
       "<table border=\"1\" class=\"dataframe\">\n",
       "  <thead>\n",
       "    <tr style=\"text-align: right;\">\n",
       "      <th></th>\n",
       "      <th>paises</th>\n",
       "      <th>población</th>\n",
       "    </tr>\n",
       "  </thead>\n",
       "  <tbody>\n",
       "    <tr>\n",
       "      <th>0</th>\n",
       "      <td>españa</td>\n",
       "      <td>45M</td>\n",
       "    </tr>\n",
       "    <tr>\n",
       "      <th>1</th>\n",
       "      <td>portugal</td>\n",
       "      <td>30M</td>\n",
       "    </tr>\n",
       "    <tr>\n",
       "      <th>2</th>\n",
       "      <td>francia</td>\n",
       "      <td>50M</td>\n",
       "    </tr>\n",
       "    <tr>\n",
       "      <th>3</th>\n",
       "      <td>italia</td>\n",
       "      <td>68M</td>\n",
       "    </tr>\n",
       "  </tbody>\n",
       "</table>\n",
       "</div>"
      ],
      "text/plain": [
       "     paises población\n",
       "0    españa       45M\n",
       "1  portugal       30M\n",
       "2   francia       50M\n",
       "3    italia       68M"
      ]
     },
     "execution_count": 60,
     "metadata": {},
     "output_type": "execute_result"
    }
   ],
   "source": [
    "Tabla_pais_pob=pd.DataFrame (dicc2)\n",
    "Tabla_pais_pob"
   ]
  },
  {
   "cell_type": "code",
   "execution_count": 84,
   "id": "062a1f9a",
   "metadata": {},
   "outputs": [
    {
     "data": {
      "text/html": [
       "<div>\n",
       "<style scoped>\n",
       "    .dataframe tbody tr th:only-of-type {\n",
       "        vertical-align: middle;\n",
       "    }\n",
       "\n",
       "    .dataframe tbody tr th {\n",
       "        vertical-align: top;\n",
       "    }\n",
       "\n",
       "    .dataframe thead th {\n",
       "        text-align: right;\n",
       "    }\n",
       "</style>\n",
       "<table border=\"1\" class=\"dataframe\">\n",
       "  <thead>\n",
       "    <tr style=\"text-align: right;\">\n",
       "      <th></th>\n",
       "      <th>sexo</th>\n",
       "      <th>edad</th>\n",
       "      <th>peso</th>\n",
       "      <th>altura</th>\n",
       "      <th>IMC</th>\n",
       "    </tr>\n",
       "  </thead>\n",
       "  <tbody>\n",
       "    <tr>\n",
       "      <th>0</th>\n",
       "      <td>hombre</td>\n",
       "      <td>12</td>\n",
       "      <td>38</td>\n",
       "      <td>139</td>\n",
       "      <td>19.67</td>\n",
       "    </tr>\n",
       "    <tr>\n",
       "      <th>1</th>\n",
       "      <td>hombre</td>\n",
       "      <td>87</td>\n",
       "      <td>68</td>\n",
       "      <td>168</td>\n",
       "      <td>24.09</td>\n",
       "    </tr>\n",
       "    <tr>\n",
       "      <th>2</th>\n",
       "      <td>hombre</td>\n",
       "      <td>17</td>\n",
       "      <td>73</td>\n",
       "      <td>183</td>\n",
       "      <td>21.80</td>\n",
       "    </tr>\n",
       "    <tr>\n",
       "      <th>3</th>\n",
       "      <td>hombre</td>\n",
       "      <td>54</td>\n",
       "      <td>75</td>\n",
       "      <td>176</td>\n",
       "      <td>24.21</td>\n",
       "    </tr>\n",
       "    <tr>\n",
       "      <th>4</th>\n",
       "      <td>hombre</td>\n",
       "      <td>89</td>\n",
       "      <td>76</td>\n",
       "      <td>178</td>\n",
       "      <td>23.99</td>\n",
       "    </tr>\n",
       "    <tr>\n",
       "      <th>5</th>\n",
       "      <td>hombre</td>\n",
       "      <td>23</td>\n",
       "      <td>78</td>\n",
       "      <td>182</td>\n",
       "      <td>23.55</td>\n",
       "    </tr>\n",
       "    <tr>\n",
       "      <th>6</th>\n",
       "      <td>hombre</td>\n",
       "      <td>45</td>\n",
       "      <td>79</td>\n",
       "      <td>185</td>\n",
       "      <td>23.08</td>\n",
       "    </tr>\n",
       "    <tr>\n",
       "      <th>7</th>\n",
       "      <td>hombre</td>\n",
       "      <td>57</td>\n",
       "      <td>82</td>\n",
       "      <td>183</td>\n",
       "      <td>24.49</td>\n",
       "    </tr>\n",
       "    <tr>\n",
       "      <th>8</th>\n",
       "      <td>hombre</td>\n",
       "      <td>57</td>\n",
       "      <td>85</td>\n",
       "      <td>185</td>\n",
       "      <td>24.84</td>\n",
       "    </tr>\n",
       "    <tr>\n",
       "      <th>9</th>\n",
       "      <td>hombre</td>\n",
       "      <td>35</td>\n",
       "      <td>86</td>\n",
       "      <td>174</td>\n",
       "      <td>28.41</td>\n",
       "    </tr>\n",
       "    <tr>\n",
       "      <th>10</th>\n",
       "      <td>hombre</td>\n",
       "      <td>65</td>\n",
       "      <td>93</td>\n",
       "      <td>178</td>\n",
       "      <td>29.35</td>\n",
       "    </tr>\n",
       "    <tr>\n",
       "      <th>11</th>\n",
       "      <td>hombre</td>\n",
       "      <td>75</td>\n",
       "      <td>100</td>\n",
       "      <td>185</td>\n",
       "      <td>29.22</td>\n",
       "    </tr>\n",
       "    <tr>\n",
       "      <th>12</th>\n",
       "      <td>mujer</td>\n",
       "      <td>16</td>\n",
       "      <td>48</td>\n",
       "      <td>154</td>\n",
       "      <td>20.24</td>\n",
       "    </tr>\n",
       "    <tr>\n",
       "      <th>13</th>\n",
       "      <td>mujer</td>\n",
       "      <td>18</td>\n",
       "      <td>52</td>\n",
       "      <td>161</td>\n",
       "      <td>20.06</td>\n",
       "    </tr>\n",
       "    <tr>\n",
       "      <th>14</th>\n",
       "      <td>mujer</td>\n",
       "      <td>44</td>\n",
       "      <td>53</td>\n",
       "      <td>155</td>\n",
       "      <td>22.06</td>\n",
       "    </tr>\n",
       "    <tr>\n",
       "      <th>15</th>\n",
       "      <td>mujer</td>\n",
       "      <td>35</td>\n",
       "      <td>54</td>\n",
       "      <td>154</td>\n",
       "      <td>22.77</td>\n",
       "    </tr>\n",
       "    <tr>\n",
       "      <th>16</th>\n",
       "      <td>mujer</td>\n",
       "      <td>35</td>\n",
       "      <td>55</td>\n",
       "      <td>166</td>\n",
       "      <td>19.96</td>\n",
       "    </tr>\n",
       "    <tr>\n",
       "      <th>17</th>\n",
       "      <td>mujer</td>\n",
       "      <td>55</td>\n",
       "      <td>55</td>\n",
       "      <td>163</td>\n",
       "      <td>20.70</td>\n",
       "    </tr>\n",
       "    <tr>\n",
       "      <th>18</th>\n",
       "      <td>mujer</td>\n",
       "      <td>64</td>\n",
       "      <td>55</td>\n",
       "      <td>158</td>\n",
       "      <td>22.03</td>\n",
       "    </tr>\n",
       "    <tr>\n",
       "      <th>19</th>\n",
       "      <td>mujer</td>\n",
       "      <td>22</td>\n",
       "      <td>57</td>\n",
       "      <td>163</td>\n",
       "      <td>21.45</td>\n",
       "    </tr>\n",
       "    <tr>\n",
       "      <th>20</th>\n",
       "      <td>mujer</td>\n",
       "      <td>43</td>\n",
       "      <td>57</td>\n",
       "      <td>168</td>\n",
       "      <td>20.20</td>\n",
       "    </tr>\n",
       "    <tr>\n",
       "      <th>21</th>\n",
       "      <td>mujer</td>\n",
       "      <td>45</td>\n",
       "      <td>61</td>\n",
       "      <td>159</td>\n",
       "      <td>24.13</td>\n",
       "    </tr>\n",
       "    <tr>\n",
       "      <th>22</th>\n",
       "      <td>mujer</td>\n",
       "      <td>54</td>\n",
       "      <td>63</td>\n",
       "      <td>173</td>\n",
       "      <td>21.05</td>\n",
       "    </tr>\n",
       "    <tr>\n",
       "      <th>23</th>\n",
       "      <td>mujer</td>\n",
       "      <td>65</td>\n",
       "      <td>63</td>\n",
       "      <td>164</td>\n",
       "      <td>23.42</td>\n",
       "    </tr>\n",
       "    <tr>\n",
       "      <th>24</th>\n",
       "      <td>mujer</td>\n",
       "      <td>90</td>\n",
       "      <td>63</td>\n",
       "      <td>162</td>\n",
       "      <td>24.01</td>\n",
       "    </tr>\n",
       "    <tr>\n",
       "      <th>25</th>\n",
       "      <td>mujer</td>\n",
       "      <td>26</td>\n",
       "      <td>64</td>\n",
       "      <td>163</td>\n",
       "      <td>24.09</td>\n",
       "    </tr>\n",
       "    <tr>\n",
       "      <th>26</th>\n",
       "      <td>mujer</td>\n",
       "      <td>47</td>\n",
       "      <td>66</td>\n",
       "      <td>166</td>\n",
       "      <td>23.95</td>\n",
       "    </tr>\n",
       "    <tr>\n",
       "      <th>27</th>\n",
       "      <td>mujer</td>\n",
       "      <td>35</td>\n",
       "      <td>70</td>\n",
       "      <td>172</td>\n",
       "      <td>23.66</td>\n",
       "    </tr>\n",
       "    <tr>\n",
       "      <th>28</th>\n",
       "      <td>mujer</td>\n",
       "      <td>93</td>\n",
       "      <td>75</td>\n",
       "      <td>165</td>\n",
       "      <td>27.55</td>\n",
       "    </tr>\n",
       "    <tr>\n",
       "      <th>29</th>\n",
       "      <td>mujer</td>\n",
       "      <td>63</td>\n",
       "      <td>88</td>\n",
       "      <td>172</td>\n",
       "      <td>29.75</td>\n",
       "    </tr>\n",
       "  </tbody>\n",
       "</table>\n",
       "</div>"
      ],
      "text/plain": [
       "      sexo  edad  peso  altura    IMC\n",
       "0   hombre    12    38     139  19.67\n",
       "1   hombre    87    68     168  24.09\n",
       "2   hombre    17    73     183  21.80\n",
       "3   hombre    54    75     176  24.21\n",
       "4   hombre    89    76     178  23.99\n",
       "5   hombre    23    78     182  23.55\n",
       "6   hombre    45    79     185  23.08\n",
       "7   hombre    57    82     183  24.49\n",
       "8   hombre    57    85     185  24.84\n",
       "9   hombre    35    86     174  28.41\n",
       "10  hombre    65    93     178  29.35\n",
       "11  hombre    75   100     185  29.22\n",
       "12   mujer    16    48     154  20.24\n",
       "13   mujer    18    52     161  20.06\n",
       "14   mujer    44    53     155  22.06\n",
       "15   mujer    35    54     154  22.77\n",
       "16   mujer    35    55     166  19.96\n",
       "17   mujer    55    55     163  20.70\n",
       "18   mujer    64    55     158  22.03\n",
       "19   mujer    22    57     163  21.45\n",
       "20   mujer    43    57     168  20.20\n",
       "21   mujer    45    61     159  24.13\n",
       "22   mujer    54    63     173  21.05\n",
       "23   mujer    65    63     164  23.42\n",
       "24   mujer    90    63     162  24.01\n",
       "25   mujer    26    64     163  24.09\n",
       "26   mujer    47    66     166  23.95\n",
       "27   mujer    35    70     172  23.66\n",
       "28   mujer    93    75     165  27.55\n",
       "29   mujer    63    88     172  29.75"
      ]
     },
     "execution_count": 84,
     "metadata": {},
     "output_type": "execute_result"
    }
   ],
   "source": [
    "#importando desde excel\n",
    "\n",
    "biometricos= \"prueba_python.xlsx\"\n",
    "biometricos=pd.read_excel (biometricos)\n",
    "biometricos"
   ]
  },
  {
   "cell_type": "code",
   "execution_count": 71,
   "id": "5e8f8300",
   "metadata": {},
   "outputs": [],
   "source": [
    "biometricos_h=pd.read_excel(biometricos, \n",
    "              sheet_name=\"Hoja2\")\n",
    "    "
   ]
  },
  {
   "cell_type": "code",
   "execution_count": 72,
   "id": "573356d8",
   "metadata": {},
   "outputs": [],
   "source": [
    "biometricos_m=pd.read_excel(biometricos, \n",
    "              sheet_name=\"Hoja3\",\n",
    "              header=None, #para colocar los nombres de las columnas\n",
    "              names=[\"sexo\", \"edad\", \"peso\", \"altura\", \"IMC\"])"
   ]
  },
  {
   "cell_type": "code",
   "execution_count": 73,
   "id": "c465911c",
   "metadata": {},
   "outputs": [
    {
     "data": {
      "text/html": [
       "<div>\n",
       "<style scoped>\n",
       "    .dataframe tbody tr th:only-of-type {\n",
       "        vertical-align: middle;\n",
       "    }\n",
       "\n",
       "    .dataframe tbody tr th {\n",
       "        vertical-align: top;\n",
       "    }\n",
       "\n",
       "    .dataframe thead th {\n",
       "        text-align: right;\n",
       "    }\n",
       "</style>\n",
       "<table border=\"1\" class=\"dataframe\">\n",
       "  <thead>\n",
       "    <tr style=\"text-align: right;\">\n",
       "      <th></th>\n",
       "      <th>sexo</th>\n",
       "      <th>edad</th>\n",
       "      <th>peso</th>\n",
       "      <th>altura</th>\n",
       "      <th>IMC</th>\n",
       "    </tr>\n",
       "  </thead>\n",
       "  <tbody>\n",
       "    <tr>\n",
       "      <th>0</th>\n",
       "      <td>hombre</td>\n",
       "      <td>12</td>\n",
       "      <td>38</td>\n",
       "      <td>139</td>\n",
       "      <td>19.67</td>\n",
       "    </tr>\n",
       "    <tr>\n",
       "      <th>1</th>\n",
       "      <td>hombre</td>\n",
       "      <td>23</td>\n",
       "      <td>73</td>\n",
       "      <td>183</td>\n",
       "      <td>21.80</td>\n",
       "    </tr>\n",
       "    <tr>\n",
       "      <th>2</th>\n",
       "      <td>hombre</td>\n",
       "      <td>23</td>\n",
       "      <td>78</td>\n",
       "      <td>182</td>\n",
       "      <td>23.55</td>\n",
       "    </tr>\n",
       "    <tr>\n",
       "      <th>3</th>\n",
       "      <td>hombre</td>\n",
       "      <td>35</td>\n",
       "      <td>86</td>\n",
       "      <td>174</td>\n",
       "      <td>28.41</td>\n",
       "    </tr>\n",
       "    <tr>\n",
       "      <th>4</th>\n",
       "      <td>hombre</td>\n",
       "      <td>45</td>\n",
       "      <td>79</td>\n",
       "      <td>185</td>\n",
       "      <td>23.08</td>\n",
       "    </tr>\n",
       "    <tr>\n",
       "      <th>5</th>\n",
       "      <td>hombre</td>\n",
       "      <td>54</td>\n",
       "      <td>75</td>\n",
       "      <td>176</td>\n",
       "      <td>24.21</td>\n",
       "    </tr>\n",
       "    <tr>\n",
       "      <th>6</th>\n",
       "      <td>hombre</td>\n",
       "      <td>57</td>\n",
       "      <td>82</td>\n",
       "      <td>183</td>\n",
       "      <td>24.49</td>\n",
       "    </tr>\n",
       "    <tr>\n",
       "      <th>7</th>\n",
       "      <td>hombre</td>\n",
       "      <td>57</td>\n",
       "      <td>85</td>\n",
       "      <td>185</td>\n",
       "      <td>24.84</td>\n",
       "    </tr>\n",
       "    <tr>\n",
       "      <th>8</th>\n",
       "      <td>hombre</td>\n",
       "      <td>65</td>\n",
       "      <td>93</td>\n",
       "      <td>178</td>\n",
       "      <td>29.35</td>\n",
       "    </tr>\n",
       "    <tr>\n",
       "      <th>9</th>\n",
       "      <td>hombre</td>\n",
       "      <td>75</td>\n",
       "      <td>100</td>\n",
       "      <td>185</td>\n",
       "      <td>29.22</td>\n",
       "    </tr>\n",
       "    <tr>\n",
       "      <th>10</th>\n",
       "      <td>hombre</td>\n",
       "      <td>87</td>\n",
       "      <td>68</td>\n",
       "      <td>168</td>\n",
       "      <td>24.09</td>\n",
       "    </tr>\n",
       "    <tr>\n",
       "      <th>11</th>\n",
       "      <td>hombre</td>\n",
       "      <td>89</td>\n",
       "      <td>76</td>\n",
       "      <td>178</td>\n",
       "      <td>23.99</td>\n",
       "    </tr>\n",
       "  </tbody>\n",
       "</table>\n",
       "</div>"
      ],
      "text/plain": [
       "      sexo  edad  peso  altura    IMC\n",
       "0   hombre    12    38     139  19.67\n",
       "1   hombre    23    73     183  21.80\n",
       "2   hombre    23    78     182  23.55\n",
       "3   hombre    35    86     174  28.41\n",
       "4   hombre    45    79     185  23.08\n",
       "5   hombre    54    75     176  24.21\n",
       "6   hombre    57    82     183  24.49\n",
       "7   hombre    57    85     185  24.84\n",
       "8   hombre    65    93     178  29.35\n",
       "9   hombre    75   100     185  29.22\n",
       "10  hombre    87    68     168  24.09\n",
       "11  hombre    89    76     178  23.99"
      ]
     },
     "execution_count": 73,
     "metadata": {},
     "output_type": "execute_result"
    }
   ],
   "source": [
    "biometricos_h"
   ]
  },
  {
   "cell_type": "code",
   "execution_count": 74,
   "id": "cc9bbc19",
   "metadata": {},
   "outputs": [
    {
     "data": {
      "text/html": [
       "<div>\n",
       "<style scoped>\n",
       "    .dataframe tbody tr th:only-of-type {\n",
       "        vertical-align: middle;\n",
       "    }\n",
       "\n",
       "    .dataframe tbody tr th {\n",
       "        vertical-align: top;\n",
       "    }\n",
       "\n",
       "    .dataframe thead th {\n",
       "        text-align: right;\n",
       "    }\n",
       "</style>\n",
       "<table border=\"1\" class=\"dataframe\">\n",
       "  <thead>\n",
       "    <tr style=\"text-align: right;\">\n",
       "      <th></th>\n",
       "      <th>sexo</th>\n",
       "      <th>edad</th>\n",
       "      <th>peso</th>\n",
       "      <th>altura</th>\n",
       "      <th>IMC</th>\n",
       "    </tr>\n",
       "  </thead>\n",
       "  <tbody>\n",
       "    <tr>\n",
       "      <th>0</th>\n",
       "      <td>mujer</td>\n",
       "      <td>16</td>\n",
       "      <td>48</td>\n",
       "      <td>154</td>\n",
       "      <td>20.24</td>\n",
       "    </tr>\n",
       "    <tr>\n",
       "      <th>1</th>\n",
       "      <td>mujer</td>\n",
       "      <td>33</td>\n",
       "      <td>52</td>\n",
       "      <td>161</td>\n",
       "      <td>20.06</td>\n",
       "    </tr>\n",
       "    <tr>\n",
       "      <th>2</th>\n",
       "      <td>mujer</td>\n",
       "      <td>33</td>\n",
       "      <td>57</td>\n",
       "      <td>163</td>\n",
       "      <td>21.45</td>\n",
       "    </tr>\n",
       "    <tr>\n",
       "      <th>3</th>\n",
       "      <td>mujer</td>\n",
       "      <td>34</td>\n",
       "      <td>64</td>\n",
       "      <td>163</td>\n",
       "      <td>24.09</td>\n",
       "    </tr>\n",
       "    <tr>\n",
       "      <th>4</th>\n",
       "      <td>mujer</td>\n",
       "      <td>35</td>\n",
       "      <td>54</td>\n",
       "      <td>154</td>\n",
       "      <td>22.77</td>\n",
       "    </tr>\n",
       "    <tr>\n",
       "      <th>5</th>\n",
       "      <td>mujer</td>\n",
       "      <td>35</td>\n",
       "      <td>55</td>\n",
       "      <td>166</td>\n",
       "      <td>19.96</td>\n",
       "    </tr>\n",
       "    <tr>\n",
       "      <th>6</th>\n",
       "      <td>mujer</td>\n",
       "      <td>35</td>\n",
       "      <td>70</td>\n",
       "      <td>172</td>\n",
       "      <td>23.66</td>\n",
       "    </tr>\n",
       "    <tr>\n",
       "      <th>7</th>\n",
       "      <td>mujer</td>\n",
       "      <td>43</td>\n",
       "      <td>57</td>\n",
       "      <td>168</td>\n",
       "      <td>20.20</td>\n",
       "    </tr>\n",
       "    <tr>\n",
       "      <th>8</th>\n",
       "      <td>mujer</td>\n",
       "      <td>44</td>\n",
       "      <td>53</td>\n",
       "      <td>155</td>\n",
       "      <td>22.06</td>\n",
       "    </tr>\n",
       "    <tr>\n",
       "      <th>9</th>\n",
       "      <td>mujer</td>\n",
       "      <td>45</td>\n",
       "      <td>61</td>\n",
       "      <td>159</td>\n",
       "      <td>24.13</td>\n",
       "    </tr>\n",
       "    <tr>\n",
       "      <th>10</th>\n",
       "      <td>mujer</td>\n",
       "      <td>47</td>\n",
       "      <td>66</td>\n",
       "      <td>166</td>\n",
       "      <td>23.95</td>\n",
       "    </tr>\n",
       "    <tr>\n",
       "      <th>11</th>\n",
       "      <td>mujer</td>\n",
       "      <td>54</td>\n",
       "      <td>63</td>\n",
       "      <td>173</td>\n",
       "      <td>21.05</td>\n",
       "    </tr>\n",
       "    <tr>\n",
       "      <th>12</th>\n",
       "      <td>mujer</td>\n",
       "      <td>55</td>\n",
       "      <td>55</td>\n",
       "      <td>163</td>\n",
       "      <td>20.70</td>\n",
       "    </tr>\n",
       "    <tr>\n",
       "      <th>13</th>\n",
       "      <td>mujer</td>\n",
       "      <td>63</td>\n",
       "      <td>88</td>\n",
       "      <td>172</td>\n",
       "      <td>29.75</td>\n",
       "    </tr>\n",
       "    <tr>\n",
       "      <th>14</th>\n",
       "      <td>mujer</td>\n",
       "      <td>64</td>\n",
       "      <td>55</td>\n",
       "      <td>158</td>\n",
       "      <td>22.03</td>\n",
       "    </tr>\n",
       "    <tr>\n",
       "      <th>15</th>\n",
       "      <td>mujer</td>\n",
       "      <td>65</td>\n",
       "      <td>63</td>\n",
       "      <td>164</td>\n",
       "      <td>23.42</td>\n",
       "    </tr>\n",
       "    <tr>\n",
       "      <th>16</th>\n",
       "      <td>mujer</td>\n",
       "      <td>90</td>\n",
       "      <td>63</td>\n",
       "      <td>162</td>\n",
       "      <td>24.01</td>\n",
       "    </tr>\n",
       "    <tr>\n",
       "      <th>17</th>\n",
       "      <td>mujer</td>\n",
       "      <td>93</td>\n",
       "      <td>75</td>\n",
       "      <td>165</td>\n",
       "      <td>27.55</td>\n",
       "    </tr>\n",
       "  </tbody>\n",
       "</table>\n",
       "</div>"
      ],
      "text/plain": [
       "     sexo  edad  peso  altura    IMC\n",
       "0   mujer    16    48     154  20.24\n",
       "1   mujer    33    52     161  20.06\n",
       "2   mujer    33    57     163  21.45\n",
       "3   mujer    34    64     163  24.09\n",
       "4   mujer    35    54     154  22.77\n",
       "5   mujer    35    55     166  19.96\n",
       "6   mujer    35    70     172  23.66\n",
       "7   mujer    43    57     168  20.20\n",
       "8   mujer    44    53     155  22.06\n",
       "9   mujer    45    61     159  24.13\n",
       "10  mujer    47    66     166  23.95\n",
       "11  mujer    54    63     173  21.05\n",
       "12  mujer    55    55     163  20.70\n",
       "13  mujer    63    88     172  29.75\n",
       "14  mujer    64    55     158  22.03\n",
       "15  mujer    65    63     164  23.42\n",
       "16  mujer    90    63     162  24.01\n",
       "17  mujer    93    75     165  27.55"
      ]
     },
     "execution_count": 74,
     "metadata": {},
     "output_type": "execute_result"
    }
   ],
   "source": [
    "biometricos_m"
   ]
  },
  {
   "cell_type": "code",
   "execution_count": 80,
   "id": "86a321a6",
   "metadata": {},
   "outputs": [
    {
     "data": {
      "text/html": [
       "<div>\n",
       "<style scoped>\n",
       "    .dataframe tbody tr th:only-of-type {\n",
       "        vertical-align: middle;\n",
       "    }\n",
       "\n",
       "    .dataframe tbody tr th {\n",
       "        vertical-align: top;\n",
       "    }\n",
       "\n",
       "    .dataframe thead th {\n",
       "        text-align: right;\n",
       "    }\n",
       "</style>\n",
       "<table border=\"1\" class=\"dataframe\">\n",
       "  <thead>\n",
       "    <tr style=\"text-align: right;\">\n",
       "      <th></th>\n",
       "      <th>sexo</th>\n",
       "      <th>edad</th>\n",
       "      <th>peso</th>\n",
       "      <th>altura</th>\n",
       "      <th>IMC</th>\n",
       "    </tr>\n",
       "  </thead>\n",
       "  <tbody>\n",
       "    <tr>\n",
       "      <th>0</th>\n",
       "      <td>hombre</td>\n",
       "      <td>12</td>\n",
       "      <td>38</td>\n",
       "      <td>139</td>\n",
       "      <td>19.67</td>\n",
       "    </tr>\n",
       "    <tr>\n",
       "      <th>1</th>\n",
       "      <td>hombre</td>\n",
       "      <td>23</td>\n",
       "      <td>73</td>\n",
       "      <td>183</td>\n",
       "      <td>21.80</td>\n",
       "    </tr>\n",
       "    <tr>\n",
       "      <th>2</th>\n",
       "      <td>hombre</td>\n",
       "      <td>23</td>\n",
       "      <td>78</td>\n",
       "      <td>182</td>\n",
       "      <td>23.55</td>\n",
       "    </tr>\n",
       "    <tr>\n",
       "      <th>3</th>\n",
       "      <td>hombre</td>\n",
       "      <td>35</td>\n",
       "      <td>86</td>\n",
       "      <td>174</td>\n",
       "      <td>28.41</td>\n",
       "    </tr>\n",
       "    <tr>\n",
       "      <th>4</th>\n",
       "      <td>hombre</td>\n",
       "      <td>45</td>\n",
       "      <td>79</td>\n",
       "      <td>185</td>\n",
       "      <td>23.08</td>\n",
       "    </tr>\n",
       "  </tbody>\n",
       "</table>\n",
       "</div>"
      ],
      "text/plain": [
       "     sexo  edad  peso  altura    IMC\n",
       "0  hombre    12    38     139  19.67\n",
       "1  hombre    23    73     183  21.80\n",
       "2  hombre    23    78     182  23.55\n",
       "3  hombre    35    86     174  28.41\n",
       "4  hombre    45    79     185  23.08"
      ]
     },
     "execution_count": 80,
     "metadata": {},
     "output_type": "execute_result"
    }
   ],
   "source": [
    "biometricos_h.head(5)"
   ]
  },
  {
   "cell_type": "code",
   "execution_count": 81,
   "id": "0947de90",
   "metadata": {},
   "outputs": [
    {
     "data": {
      "text/html": [
       "<div>\n",
       "<style scoped>\n",
       "    .dataframe tbody tr th:only-of-type {\n",
       "        vertical-align: middle;\n",
       "    }\n",
       "\n",
       "    .dataframe tbody tr th {\n",
       "        vertical-align: top;\n",
       "    }\n",
       "\n",
       "    .dataframe thead th {\n",
       "        text-align: right;\n",
       "    }\n",
       "</style>\n",
       "<table border=\"1\" class=\"dataframe\">\n",
       "  <thead>\n",
       "    <tr style=\"text-align: right;\">\n",
       "      <th></th>\n",
       "      <th>sexo</th>\n",
       "      <th>edad</th>\n",
       "      <th>peso</th>\n",
       "      <th>altura</th>\n",
       "      <th>IMC</th>\n",
       "    </tr>\n",
       "  </thead>\n",
       "  <tbody>\n",
       "    <tr>\n",
       "      <th>11</th>\n",
       "      <td>mujer</td>\n",
       "      <td>54</td>\n",
       "      <td>63</td>\n",
       "      <td>173</td>\n",
       "      <td>21.05</td>\n",
       "    </tr>\n",
       "    <tr>\n",
       "      <th>12</th>\n",
       "      <td>mujer</td>\n",
       "      <td>55</td>\n",
       "      <td>55</td>\n",
       "      <td>163</td>\n",
       "      <td>20.70</td>\n",
       "    </tr>\n",
       "    <tr>\n",
       "      <th>13</th>\n",
       "      <td>mujer</td>\n",
       "      <td>63</td>\n",
       "      <td>88</td>\n",
       "      <td>172</td>\n",
       "      <td>29.75</td>\n",
       "    </tr>\n",
       "    <tr>\n",
       "      <th>14</th>\n",
       "      <td>mujer</td>\n",
       "      <td>64</td>\n",
       "      <td>55</td>\n",
       "      <td>158</td>\n",
       "      <td>22.03</td>\n",
       "    </tr>\n",
       "    <tr>\n",
       "      <th>15</th>\n",
       "      <td>mujer</td>\n",
       "      <td>65</td>\n",
       "      <td>63</td>\n",
       "      <td>164</td>\n",
       "      <td>23.42</td>\n",
       "    </tr>\n",
       "    <tr>\n",
       "      <th>16</th>\n",
       "      <td>mujer</td>\n",
       "      <td>90</td>\n",
       "      <td>63</td>\n",
       "      <td>162</td>\n",
       "      <td>24.01</td>\n",
       "    </tr>\n",
       "    <tr>\n",
       "      <th>17</th>\n",
       "      <td>mujer</td>\n",
       "      <td>93</td>\n",
       "      <td>75</td>\n",
       "      <td>165</td>\n",
       "      <td>27.55</td>\n",
       "    </tr>\n",
       "  </tbody>\n",
       "</table>\n",
       "</div>"
      ],
      "text/plain": [
       "     sexo  edad  peso  altura    IMC\n",
       "11  mujer    54    63     173  21.05\n",
       "12  mujer    55    55     163  20.70\n",
       "13  mujer    63    88     172  29.75\n",
       "14  mujer    64    55     158  22.03\n",
       "15  mujer    65    63     164  23.42\n",
       "16  mujer    90    63     162  24.01\n",
       "17  mujer    93    75     165  27.55"
      ]
     },
     "execution_count": 81,
     "metadata": {},
     "output_type": "execute_result"
    }
   ],
   "source": [
    "biometricos_m.tail(7)"
   ]
  },
  {
   "cell_type": "code",
   "execution_count": 83,
   "id": "c365fcf3",
   "metadata": {},
   "outputs": [
    {
     "data": {
      "text/html": [
       "<div>\n",
       "<style scoped>\n",
       "    .dataframe tbody tr th:only-of-type {\n",
       "        vertical-align: middle;\n",
       "    }\n",
       "\n",
       "    .dataframe tbody tr th {\n",
       "        vertical-align: top;\n",
       "    }\n",
       "\n",
       "    .dataframe thead th {\n",
       "        text-align: right;\n",
       "    }\n",
       "</style>\n",
       "<table border=\"1\" class=\"dataframe\">\n",
       "  <thead>\n",
       "    <tr style=\"text-align: right;\">\n",
       "      <th></th>\n",
       "      <th>sexo</th>\n",
       "      <th>edad</th>\n",
       "      <th>peso</th>\n",
       "      <th>altura</th>\n",
       "      <th>IMC</th>\n",
       "    </tr>\n",
       "  </thead>\n",
       "  <tbody>\n",
       "    <tr>\n",
       "      <th>0</th>\n",
       "      <td>hombre</td>\n",
       "      <td>12</td>\n",
       "      <td>38</td>\n",
       "      <td>139</td>\n",
       "      <td>19.67</td>\n",
       "    </tr>\n",
       "    <tr>\n",
       "      <th>1</th>\n",
       "      <td>hombre</td>\n",
       "      <td>87</td>\n",
       "      <td>68</td>\n",
       "      <td>168</td>\n",
       "      <td>24.09</td>\n",
       "    </tr>\n",
       "    <tr>\n",
       "      <th>2</th>\n",
       "      <td>hombre</td>\n",
       "      <td>17</td>\n",
       "      <td>73</td>\n",
       "      <td>183</td>\n",
       "      <td>21.80</td>\n",
       "    </tr>\n",
       "    <tr>\n",
       "      <th>3</th>\n",
       "      <td>hombre</td>\n",
       "      <td>54</td>\n",
       "      <td>75</td>\n",
       "      <td>176</td>\n",
       "      <td>24.21</td>\n",
       "    </tr>\n",
       "  </tbody>\n",
       "</table>\n",
       "</div>"
      ],
      "text/plain": [
       "     sexo  edad  peso  altura    IMC\n",
       "0  hombre    12    38     139  19.67\n",
       "1  hombre    87    68     168  24.09\n",
       "2  hombre    17    73     183  21.80\n",
       "3  hombre    54    75     176  24.21"
      ]
     },
     "execution_count": 83,
     "metadata": {},
     "output_type": "execute_result"
    }
   ],
   "source": [
    "biometricos.head(4)"
   ]
  },
  {
   "cell_type": "code",
   "execution_count": 86,
   "id": "7a828906",
   "metadata": {},
   "outputs": [
    {
     "data": {
      "text/plain": [
       "(30, 5)"
      ]
     },
     "execution_count": 86,
     "metadata": {},
     "output_type": "execute_result"
    }
   ],
   "source": [
    "biometricos.shape"
   ]
  },
  {
   "cell_type": "code",
   "execution_count": null,
   "id": "ba0e6b18",
   "metadata": {},
   "outputs": [],
   "source": [
    "pd.set_option(\"display.max_rows\", 30) #util en tablas muy grandes si queremos ver todas las filas. el 30 seria el numeroque quieres ver\n",
    "biometricos"
   ]
  },
  {
   "cell_type": "markdown",
   "id": "c674f119",
   "metadata": {},
   "source": [
    "selección de columnas (una o mas)"
   ]
  },
  {
   "cell_type": "code",
   "execution_count": 87,
   "id": "42ffa248",
   "metadata": {},
   "outputs": [
    {
     "data": {
      "text/plain": [
       "0     12\n",
       "1     23\n",
       "2     23\n",
       "3     35\n",
       "4     45\n",
       "5     54\n",
       "6     57\n",
       "7     57\n",
       "8     65\n",
       "9     75\n",
       "10    87\n",
       "11    89\n",
       "Name: edad, dtype: int64"
      ]
     },
     "execution_count": 87,
     "metadata": {},
     "output_type": "execute_result"
    }
   ],
   "source": [
    "biometricos_h[\"edad\"]"
   ]
  },
  {
   "cell_type": "code",
   "execution_count": 88,
   "id": "f65f8313",
   "metadata": {},
   "outputs": [
    {
     "data": {
      "text/plain": [
       "0    12\n",
       "1    23\n",
       "2    23\n",
       "3    35\n",
       "4    45\n",
       "Name: edad, dtype: int64"
      ]
     },
     "execution_count": 88,
     "metadata": {},
     "output_type": "execute_result"
    }
   ],
   "source": [
    "biometricos_h[\"edad\"].head(5)"
   ]
  },
  {
   "cell_type": "code",
   "execution_count": 91,
   "id": "1ae0cf97",
   "metadata": {},
   "outputs": [
    {
     "data": {
      "text/html": [
       "<div>\n",
       "<style scoped>\n",
       "    .dataframe tbody tr th:only-of-type {\n",
       "        vertical-align: middle;\n",
       "    }\n",
       "\n",
       "    .dataframe tbody tr th {\n",
       "        vertical-align: top;\n",
       "    }\n",
       "\n",
       "    .dataframe thead th {\n",
       "        text-align: right;\n",
       "    }\n",
       "</style>\n",
       "<table border=\"1\" class=\"dataframe\">\n",
       "  <thead>\n",
       "    <tr style=\"text-align: right;\">\n",
       "      <th></th>\n",
       "      <th>sexo</th>\n",
       "      <th>IMC</th>\n",
       "    </tr>\n",
       "  </thead>\n",
       "  <tbody>\n",
       "    <tr>\n",
       "      <th>8</th>\n",
       "      <td>hombre</td>\n",
       "      <td>29.35</td>\n",
       "    </tr>\n",
       "    <tr>\n",
       "      <th>9</th>\n",
       "      <td>hombre</td>\n",
       "      <td>29.22</td>\n",
       "    </tr>\n",
       "    <tr>\n",
       "      <th>10</th>\n",
       "      <td>hombre</td>\n",
       "      <td>24.09</td>\n",
       "    </tr>\n",
       "    <tr>\n",
       "      <th>11</th>\n",
       "      <td>hombre</td>\n",
       "      <td>23.99</td>\n",
       "    </tr>\n",
       "  </tbody>\n",
       "</table>\n",
       "</div>"
      ],
      "text/plain": [
       "      sexo    IMC\n",
       "8   hombre  29.35\n",
       "9   hombre  29.22\n",
       "10  hombre  24.09\n",
       "11  hombre  23.99"
      ]
     },
     "execution_count": 91,
     "metadata": {},
     "output_type": "execute_result"
    }
   ],
   "source": [
    "biometricos_h[[\"sexo\",\"IMC\"]].tail(4)"
   ]
  },
  {
   "cell_type": "code",
   "execution_count": 92,
   "id": "506067ee",
   "metadata": {},
   "outputs": [
    {
     "data": {
      "text/html": [
       "<div>\n",
       "<style scoped>\n",
       "    .dataframe tbody tr th:only-of-type {\n",
       "        vertical-align: middle;\n",
       "    }\n",
       "\n",
       "    .dataframe tbody tr th {\n",
       "        vertical-align: top;\n",
       "    }\n",
       "\n",
       "    .dataframe thead th {\n",
       "        text-align: right;\n",
       "    }\n",
       "</style>\n",
       "<table border=\"1\" class=\"dataframe\">\n",
       "  <thead>\n",
       "    <tr style=\"text-align: right;\">\n",
       "      <th></th>\n",
       "      <th>sexo</th>\n",
       "      <th>IMC</th>\n",
       "      <th>edad</th>\n",
       "    </tr>\n",
       "  </thead>\n",
       "  <tbody>\n",
       "    <tr>\n",
       "      <th>0</th>\n",
       "      <td>mujer</td>\n",
       "      <td>20.24</td>\n",
       "      <td>16</td>\n",
       "    </tr>\n",
       "    <tr>\n",
       "      <th>1</th>\n",
       "      <td>mujer</td>\n",
       "      <td>20.06</td>\n",
       "      <td>33</td>\n",
       "    </tr>\n",
       "    <tr>\n",
       "      <th>2</th>\n",
       "      <td>mujer</td>\n",
       "      <td>21.45</td>\n",
       "      <td>33</td>\n",
       "    </tr>\n",
       "    <tr>\n",
       "      <th>3</th>\n",
       "      <td>mujer</td>\n",
       "      <td>24.09</td>\n",
       "      <td>34</td>\n",
       "    </tr>\n",
       "    <tr>\n",
       "      <th>4</th>\n",
       "      <td>mujer</td>\n",
       "      <td>22.77</td>\n",
       "      <td>35</td>\n",
       "    </tr>\n",
       "    <tr>\n",
       "      <th>5</th>\n",
       "      <td>mujer</td>\n",
       "      <td>19.96</td>\n",
       "      <td>35</td>\n",
       "    </tr>\n",
       "  </tbody>\n",
       "</table>\n",
       "</div>"
      ],
      "text/plain": [
       "    sexo    IMC  edad\n",
       "0  mujer  20.24    16\n",
       "1  mujer  20.06    33\n",
       "2  mujer  21.45    33\n",
       "3  mujer  24.09    34\n",
       "4  mujer  22.77    35\n",
       "5  mujer  19.96    35"
      ]
     },
     "execution_count": 92,
     "metadata": {},
     "output_type": "execute_result"
    }
   ],
   "source": [
    "biometricos_m[[\"sexo\",\"IMC\", \"edad\"]].head(6)"
   ]
  },
  {
   "cell_type": "markdown",
   "id": "829b70c7",
   "metadata": {},
   "source": [
    "añadir nuevas columnas"
   ]
  },
  {
   "cell_type": "code",
   "execution_count": 93,
   "id": "e874f12d",
   "metadata": {},
   "outputs": [
    {
     "data": {
      "text/html": [
       "<div>\n",
       "<style scoped>\n",
       "    .dataframe tbody tr th:only-of-type {\n",
       "        vertical-align: middle;\n",
       "    }\n",
       "\n",
       "    .dataframe tbody tr th {\n",
       "        vertical-align: top;\n",
       "    }\n",
       "\n",
       "    .dataframe thead th {\n",
       "        text-align: right;\n",
       "    }\n",
       "</style>\n",
       "<table border=\"1\" class=\"dataframe\">\n",
       "  <thead>\n",
       "    <tr style=\"text-align: right;\">\n",
       "      <th></th>\n",
       "      <th>sexo</th>\n",
       "      <th>edad</th>\n",
       "      <th>peso</th>\n",
       "      <th>altura</th>\n",
       "      <th>IMC</th>\n",
       "      <th>% grasa</th>\n",
       "    </tr>\n",
       "  </thead>\n",
       "  <tbody>\n",
       "    <tr>\n",
       "      <th>0</th>\n",
       "      <td>mujer</td>\n",
       "      <td>16</td>\n",
       "      <td>48</td>\n",
       "      <td>154</td>\n",
       "      <td>20.24</td>\n",
       "      <td>25</td>\n",
       "    </tr>\n",
       "    <tr>\n",
       "      <th>1</th>\n",
       "      <td>mujer</td>\n",
       "      <td>33</td>\n",
       "      <td>52</td>\n",
       "      <td>161</td>\n",
       "      <td>20.06</td>\n",
       "      <td>25</td>\n",
       "    </tr>\n",
       "    <tr>\n",
       "      <th>2</th>\n",
       "      <td>mujer</td>\n",
       "      <td>33</td>\n",
       "      <td>57</td>\n",
       "      <td>163</td>\n",
       "      <td>21.45</td>\n",
       "      <td>25</td>\n",
       "    </tr>\n",
       "    <tr>\n",
       "      <th>3</th>\n",
       "      <td>mujer</td>\n",
       "      <td>34</td>\n",
       "      <td>64</td>\n",
       "      <td>163</td>\n",
       "      <td>24.09</td>\n",
       "      <td>25</td>\n",
       "    </tr>\n",
       "    <tr>\n",
       "      <th>4</th>\n",
       "      <td>mujer</td>\n",
       "      <td>35</td>\n",
       "      <td>54</td>\n",
       "      <td>154</td>\n",
       "      <td>22.77</td>\n",
       "      <td>25</td>\n",
       "    </tr>\n",
       "  </tbody>\n",
       "</table>\n",
       "</div>"
      ],
      "text/plain": [
       "    sexo  edad  peso  altura    IMC  % grasa\n",
       "0  mujer    16    48     154  20.24       25\n",
       "1  mujer    33    52     161  20.06       25\n",
       "2  mujer    33    57     163  21.45       25\n",
       "3  mujer    34    64     163  24.09       25\n",
       "4  mujer    35    54     154  22.77       25"
      ]
     },
     "execution_count": 93,
     "metadata": {},
     "output_type": "execute_result"
    }
   ],
   "source": [
    "biometricos_m [\"% grasa\"]=25\n",
    "biometricos_m.head(5)"
   ]
  },
  {
   "cell_type": "code",
   "execution_count": 94,
   "id": "42a8d954",
   "metadata": {},
   "outputs": [
    {
     "data": {
      "text/plain": [
       "18"
      ]
     },
     "execution_count": 94,
     "metadata": {},
     "output_type": "execute_result"
    }
   ],
   "source": [
    "len (biometricos_m)"
   ]
  },
  {
   "cell_type": "code",
   "execution_count": 98,
   "id": "0f574cd9",
   "metadata": {},
   "outputs": [
    {
     "data": {
      "text/html": [
       "<div>\n",
       "<style scoped>\n",
       "    .dataframe tbody tr th:only-of-type {\n",
       "        vertical-align: middle;\n",
       "    }\n",
       "\n",
       "    .dataframe tbody tr th {\n",
       "        vertical-align: top;\n",
       "    }\n",
       "\n",
       "    .dataframe thead th {\n",
       "        text-align: right;\n",
       "    }\n",
       "</style>\n",
       "<table border=\"1\" class=\"dataframe\">\n",
       "  <thead>\n",
       "    <tr style=\"text-align: right;\">\n",
       "      <th></th>\n",
       "      <th>sexo</th>\n",
       "      <th>edad</th>\n",
       "      <th>peso</th>\n",
       "      <th>altura</th>\n",
       "      <th>IMC</th>\n",
       "      <th>% grasa</th>\n",
       "      <th>belleza</th>\n",
       "    </tr>\n",
       "  </thead>\n",
       "  <tbody>\n",
       "    <tr>\n",
       "      <th>13</th>\n",
       "      <td>mujer</td>\n",
       "      <td>63</td>\n",
       "      <td>88</td>\n",
       "      <td>172</td>\n",
       "      <td>29.75</td>\n",
       "      <td>25</td>\n",
       "      <td>13</td>\n",
       "    </tr>\n",
       "    <tr>\n",
       "      <th>14</th>\n",
       "      <td>mujer</td>\n",
       "      <td>64</td>\n",
       "      <td>55</td>\n",
       "      <td>158</td>\n",
       "      <td>22.03</td>\n",
       "      <td>25</td>\n",
       "      <td>14</td>\n",
       "    </tr>\n",
       "    <tr>\n",
       "      <th>15</th>\n",
       "      <td>mujer</td>\n",
       "      <td>65</td>\n",
       "      <td>63</td>\n",
       "      <td>164</td>\n",
       "      <td>23.42</td>\n",
       "      <td>25</td>\n",
       "      <td>15</td>\n",
       "    </tr>\n",
       "    <tr>\n",
       "      <th>16</th>\n",
       "      <td>mujer</td>\n",
       "      <td>90</td>\n",
       "      <td>63</td>\n",
       "      <td>162</td>\n",
       "      <td>24.01</td>\n",
       "      <td>25</td>\n",
       "      <td>16</td>\n",
       "    </tr>\n",
       "    <tr>\n",
       "      <th>17</th>\n",
       "      <td>mujer</td>\n",
       "      <td>93</td>\n",
       "      <td>75</td>\n",
       "      <td>165</td>\n",
       "      <td>27.55</td>\n",
       "      <td>25</td>\n",
       "      <td>17</td>\n",
       "    </tr>\n",
       "  </tbody>\n",
       "</table>\n",
       "</div>"
      ],
      "text/plain": [
       "     sexo  edad  peso  altura    IMC  % grasa  belleza\n",
       "13  mujer    63    88     172  29.75       25       13\n",
       "14  mujer    64    55     158  22.03       25       14\n",
       "15  mujer    65    63     164  23.42       25       15\n",
       "16  mujer    90    63     162  24.01       25       16\n",
       "17  mujer    93    75     165  27.55       25       17"
      ]
     },
     "execution_count": 98,
     "metadata": {},
     "output_type": "execute_result"
    }
   ],
   "source": [
    "np.arange (0,18)\n",
    "belleza=(np.arange (0,18))\n",
    "biometricos_m [\"belleza\"]=belleza\n",
    "\n",
    "biometricos_m.tail(5)\n"
   ]
  },
  {
   "cell_type": "code",
   "execution_count": 101,
   "id": "6e79e4bc",
   "metadata": {},
   "outputs": [
    {
     "data": {
      "text/html": [
       "<div>\n",
       "<style scoped>\n",
       "    .dataframe tbody tr th:only-of-type {\n",
       "        vertical-align: middle;\n",
       "    }\n",
       "\n",
       "    .dataframe tbody tr th {\n",
       "        vertical-align: top;\n",
       "    }\n",
       "\n",
       "    .dataframe thead th {\n",
       "        text-align: right;\n",
       "    }\n",
       "</style>\n",
       "<table border=\"1\" class=\"dataframe\">\n",
       "  <thead>\n",
       "    <tr style=\"text-align: right;\">\n",
       "      <th></th>\n",
       "      <th>sexo</th>\n",
       "      <th>edad</th>\n",
       "      <th>peso</th>\n",
       "      <th>altura</th>\n",
       "      <th>IMC</th>\n",
       "      <th>% grasa</th>\n",
       "      <th>belleza</th>\n",
       "      <th>aleatorio</th>\n",
       "    </tr>\n",
       "  </thead>\n",
       "  <tbody>\n",
       "    <tr>\n",
       "      <th>0</th>\n",
       "      <td>mujer</td>\n",
       "      <td>16</td>\n",
       "      <td>48</td>\n",
       "      <td>154</td>\n",
       "      <td>20.24</td>\n",
       "      <td>25</td>\n",
       "      <td>0</td>\n",
       "      <td>5</td>\n",
       "    </tr>\n",
       "    <tr>\n",
       "      <th>1</th>\n",
       "      <td>mujer</td>\n",
       "      <td>33</td>\n",
       "      <td>52</td>\n",
       "      <td>161</td>\n",
       "      <td>20.06</td>\n",
       "      <td>25</td>\n",
       "      <td>1</td>\n",
       "      <td>31</td>\n",
       "    </tr>\n",
       "    <tr>\n",
       "      <th>2</th>\n",
       "      <td>mujer</td>\n",
       "      <td>33</td>\n",
       "      <td>57</td>\n",
       "      <td>163</td>\n",
       "      <td>21.45</td>\n",
       "      <td>25</td>\n",
       "      <td>2</td>\n",
       "      <td>21</td>\n",
       "    </tr>\n",
       "    <tr>\n",
       "      <th>3</th>\n",
       "      <td>mujer</td>\n",
       "      <td>34</td>\n",
       "      <td>64</td>\n",
       "      <td>163</td>\n",
       "      <td>24.09</td>\n",
       "      <td>25</td>\n",
       "      <td>3</td>\n",
       "      <td>28</td>\n",
       "    </tr>\n",
       "    <tr>\n",
       "      <th>4</th>\n",
       "      <td>mujer</td>\n",
       "      <td>35</td>\n",
       "      <td>54</td>\n",
       "      <td>154</td>\n",
       "      <td>22.77</td>\n",
       "      <td>25</td>\n",
       "      <td>4</td>\n",
       "      <td>2</td>\n",
       "    </tr>\n",
       "    <tr>\n",
       "      <th>5</th>\n",
       "      <td>mujer</td>\n",
       "      <td>35</td>\n",
       "      <td>55</td>\n",
       "      <td>166</td>\n",
       "      <td>19.96</td>\n",
       "      <td>25</td>\n",
       "      <td>5</td>\n",
       "      <td>20</td>\n",
       "    </tr>\n",
       "  </tbody>\n",
       "</table>\n",
       "</div>"
      ],
      "text/plain": [
       "    sexo  edad  peso  altura    IMC  % grasa  belleza  aleatorio\n",
       "0  mujer    16    48     154  20.24       25        0          5\n",
       "1  mujer    33    52     161  20.06       25        1         31\n",
       "2  mujer    33    57     163  21.45       25        2         21\n",
       "3  mujer    34    64     163  24.09       25        3         28\n",
       "4  mujer    35    54     154  22.77       25        4          2\n",
       "5  mujer    35    55     166  19.96       25        5         20"
      ]
     },
     "execution_count": 101,
     "metadata": {},
     "output_type": "execute_result"
    }
   ],
   "source": [
    "np.random.randint(1,50, size=18)\n",
    "aleatorio= (np.random.randint(1,50, size=18))\n",
    "biometricos_m [\"aleatorio\"]=aleatorio\n",
    "biometricos_m.head(6)"
   ]
  },
  {
   "cell_type": "code",
   "execution_count": 102,
   "id": "2a4ed81b",
   "metadata": {},
   "outputs": [
    {
     "data": {
      "text/html": [
       "<div>\n",
       "<style scoped>\n",
       "    .dataframe tbody tr th:only-of-type {\n",
       "        vertical-align: middle;\n",
       "    }\n",
       "\n",
       "    .dataframe tbody tr th {\n",
       "        vertical-align: top;\n",
       "    }\n",
       "\n",
       "    .dataframe thead th {\n",
       "        text-align: right;\n",
       "    }\n",
       "</style>\n",
       "<table border=\"1\" class=\"dataframe\">\n",
       "  <thead>\n",
       "    <tr style=\"text-align: right;\">\n",
       "      <th></th>\n",
       "      <th>sexo</th>\n",
       "      <th>edad</th>\n",
       "      <th>peso</th>\n",
       "      <th>altura</th>\n",
       "      <th>IMC</th>\n",
       "      <th>aleatorio_h</th>\n",
       "    </tr>\n",
       "  </thead>\n",
       "  <tbody>\n",
       "    <tr>\n",
       "      <th>0</th>\n",
       "      <td>hombre</td>\n",
       "      <td>12</td>\n",
       "      <td>38</td>\n",
       "      <td>139</td>\n",
       "      <td>19.67</td>\n",
       "      <td>24.854773</td>\n",
       "    </tr>\n",
       "    <tr>\n",
       "      <th>1</th>\n",
       "      <td>hombre</td>\n",
       "      <td>23</td>\n",
       "      <td>73</td>\n",
       "      <td>183</td>\n",
       "      <td>21.80</td>\n",
       "      <td>16.859234</td>\n",
       "    </tr>\n",
       "    <tr>\n",
       "      <th>2</th>\n",
       "      <td>hombre</td>\n",
       "      <td>23</td>\n",
       "      <td>78</td>\n",
       "      <td>182</td>\n",
       "      <td>23.55</td>\n",
       "      <td>24.759874</td>\n",
       "    </tr>\n",
       "    <tr>\n",
       "      <th>3</th>\n",
       "      <td>hombre</td>\n",
       "      <td>35</td>\n",
       "      <td>86</td>\n",
       "      <td>174</td>\n",
       "      <td>28.41</td>\n",
       "      <td>17.799389</td>\n",
       "    </tr>\n",
       "    <tr>\n",
       "      <th>4</th>\n",
       "      <td>hombre</td>\n",
       "      <td>45</td>\n",
       "      <td>79</td>\n",
       "      <td>185</td>\n",
       "      <td>23.08</td>\n",
       "      <td>29.552949</td>\n",
       "    </tr>\n",
       "    <tr>\n",
       "      <th>5</th>\n",
       "      <td>hombre</td>\n",
       "      <td>54</td>\n",
       "      <td>75</td>\n",
       "      <td>176</td>\n",
       "      <td>24.21</td>\n",
       "      <td>14.176834</td>\n",
       "    </tr>\n",
       "  </tbody>\n",
       "</table>\n",
       "</div>"
      ],
      "text/plain": [
       "     sexo  edad  peso  altura    IMC  aleatorio_h\n",
       "0  hombre    12    38     139  19.67    24.854773\n",
       "1  hombre    23    73     183  21.80    16.859234\n",
       "2  hombre    23    78     182  23.55    24.759874\n",
       "3  hombre    35    86     174  28.41    17.799389\n",
       "4  hombre    45    79     185  23.08    29.552949\n",
       "5  hombre    54    75     176  24.21    14.176834"
      ]
     },
     "execution_count": 102,
     "metadata": {},
     "output_type": "execute_result"
    }
   ],
   "source": [
    "np.random.uniform(1,30, size=12)\n",
    "aleatorio_h= (np.random.uniform(1,30, size=12))\n",
    "biometricos_h [\"aleatorio_h\"]=aleatorio_h\n",
    "biometricos_h.head(6)"
   ]
  },
  {
   "cell_type": "code",
   "execution_count": 103,
   "id": "678e7bc6",
   "metadata": {},
   "outputs": [
    {
     "data": {
      "text/html": [
       "<div>\n",
       "<style scoped>\n",
       "    .dataframe tbody tr th:only-of-type {\n",
       "        vertical-align: middle;\n",
       "    }\n",
       "\n",
       "    .dataframe tbody tr th {\n",
       "        vertical-align: top;\n",
       "    }\n",
       "\n",
       "    .dataframe thead th {\n",
       "        text-align: right;\n",
       "    }\n",
       "</style>\n",
       "<table border=\"1\" class=\"dataframe\">\n",
       "  <thead>\n",
       "    <tr style=\"text-align: right;\">\n",
       "      <th></th>\n",
       "      <th>sexo</th>\n",
       "      <th>edad</th>\n",
       "      <th>peso</th>\n",
       "      <th>altura</th>\n",
       "      <th>IMC</th>\n",
       "      <th>aleatorio_h</th>\n",
       "    </tr>\n",
       "  </thead>\n",
       "  <tbody>\n",
       "    <tr>\n",
       "      <th>0</th>\n",
       "      <td>hombre</td>\n",
       "      <td>12</td>\n",
       "      <td>38</td>\n",
       "      <td>139</td>\n",
       "      <td>19.67</td>\n",
       "      <td>24.85</td>\n",
       "    </tr>\n",
       "    <tr>\n",
       "      <th>1</th>\n",
       "      <td>hombre</td>\n",
       "      <td>23</td>\n",
       "      <td>73</td>\n",
       "      <td>183</td>\n",
       "      <td>21.80</td>\n",
       "      <td>16.86</td>\n",
       "    </tr>\n",
       "    <tr>\n",
       "      <th>2</th>\n",
       "      <td>hombre</td>\n",
       "      <td>23</td>\n",
       "      <td>78</td>\n",
       "      <td>182</td>\n",
       "      <td>23.55</td>\n",
       "      <td>24.76</td>\n",
       "    </tr>\n",
       "    <tr>\n",
       "      <th>3</th>\n",
       "      <td>hombre</td>\n",
       "      <td>35</td>\n",
       "      <td>86</td>\n",
       "      <td>174</td>\n",
       "      <td>28.41</td>\n",
       "      <td>17.80</td>\n",
       "    </tr>\n",
       "    <tr>\n",
       "      <th>4</th>\n",
       "      <td>hombre</td>\n",
       "      <td>45</td>\n",
       "      <td>79</td>\n",
       "      <td>185</td>\n",
       "      <td>23.08</td>\n",
       "      <td>29.55</td>\n",
       "    </tr>\n",
       "    <tr>\n",
       "      <th>5</th>\n",
       "      <td>hombre</td>\n",
       "      <td>54</td>\n",
       "      <td>75</td>\n",
       "      <td>176</td>\n",
       "      <td>24.21</td>\n",
       "      <td>14.18</td>\n",
       "    </tr>\n",
       "    <tr>\n",
       "      <th>6</th>\n",
       "      <td>hombre</td>\n",
       "      <td>57</td>\n",
       "      <td>82</td>\n",
       "      <td>183</td>\n",
       "      <td>24.49</td>\n",
       "      <td>18.23</td>\n",
       "    </tr>\n",
       "    <tr>\n",
       "      <th>7</th>\n",
       "      <td>hombre</td>\n",
       "      <td>57</td>\n",
       "      <td>85</td>\n",
       "      <td>185</td>\n",
       "      <td>24.84</td>\n",
       "      <td>25.11</td>\n",
       "    </tr>\n",
       "    <tr>\n",
       "      <th>8</th>\n",
       "      <td>hombre</td>\n",
       "      <td>65</td>\n",
       "      <td>93</td>\n",
       "      <td>178</td>\n",
       "      <td>29.35</td>\n",
       "      <td>23.60</td>\n",
       "    </tr>\n",
       "    <tr>\n",
       "      <th>9</th>\n",
       "      <td>hombre</td>\n",
       "      <td>75</td>\n",
       "      <td>100</td>\n",
       "      <td>185</td>\n",
       "      <td>29.22</td>\n",
       "      <td>9.24</td>\n",
       "    </tr>\n",
       "    <tr>\n",
       "      <th>10</th>\n",
       "      <td>hombre</td>\n",
       "      <td>87</td>\n",
       "      <td>68</td>\n",
       "      <td>168</td>\n",
       "      <td>24.09</td>\n",
       "      <td>13.67</td>\n",
       "    </tr>\n",
       "    <tr>\n",
       "      <th>11</th>\n",
       "      <td>hombre</td>\n",
       "      <td>89</td>\n",
       "      <td>76</td>\n",
       "      <td>178</td>\n",
       "      <td>23.99</td>\n",
       "      <td>28.89</td>\n",
       "    </tr>\n",
       "  </tbody>\n",
       "</table>\n",
       "</div>"
      ],
      "text/plain": [
       "      sexo  edad  peso  altura    IMC  aleatorio_h\n",
       "0   hombre    12    38     139  19.67        24.85\n",
       "1   hombre    23    73     183  21.80        16.86\n",
       "2   hombre    23    78     182  23.55        24.76\n",
       "3   hombre    35    86     174  28.41        17.80\n",
       "4   hombre    45    79     185  23.08        29.55\n",
       "5   hombre    54    75     176  24.21        14.18\n",
       "6   hombre    57    82     183  24.49        18.23\n",
       "7   hombre    57    85     185  24.84        25.11\n",
       "8   hombre    65    93     178  29.35        23.60\n",
       "9   hombre    75   100     185  29.22         9.24\n",
       "10  hombre    87    68     168  24.09        13.67\n",
       "11  hombre    89    76     178  23.99        28.89"
      ]
     },
     "execution_count": 103,
     "metadata": {},
     "output_type": "execute_result"
    }
   ],
   "source": [
    "round (biometricos_h, 2)"
   ]
  },
  {
   "cell_type": "code",
   "execution_count": 111,
   "id": "0d961173",
   "metadata": {},
   "outputs": [
    {
     "data": {
      "text/html": [
       "<div>\n",
       "<style scoped>\n",
       "    .dataframe tbody tr th:only-of-type {\n",
       "        vertical-align: middle;\n",
       "    }\n",
       "\n",
       "    .dataframe tbody tr th {\n",
       "        vertical-align: top;\n",
       "    }\n",
       "\n",
       "    .dataframe thead th {\n",
       "        text-align: right;\n",
       "    }\n",
       "</style>\n",
       "<table border=\"1\" class=\"dataframe\">\n",
       "  <thead>\n",
       "    <tr style=\"text-align: right;\">\n",
       "      <th></th>\n",
       "      <th>sexo</th>\n",
       "      <th>edad</th>\n",
       "      <th>peso</th>\n",
       "      <th>altura</th>\n",
       "    </tr>\n",
       "  </thead>\n",
       "  <tbody>\n",
       "    <tr>\n",
       "      <th>0</th>\n",
       "      <td>hombre</td>\n",
       "      <td>12</td>\n",
       "      <td>38</td>\n",
       "      <td>139</td>\n",
       "    </tr>\n",
       "    <tr>\n",
       "      <th>1</th>\n",
       "      <td>hombre</td>\n",
       "      <td>23</td>\n",
       "      <td>73</td>\n",
       "      <td>183</td>\n",
       "    </tr>\n",
       "    <tr>\n",
       "      <th>2</th>\n",
       "      <td>hombre</td>\n",
       "      <td>23</td>\n",
       "      <td>78</td>\n",
       "      <td>182</td>\n",
       "    </tr>\n",
       "    <tr>\n",
       "      <th>3</th>\n",
       "      <td>hombre</td>\n",
       "      <td>35</td>\n",
       "      <td>86</td>\n",
       "      <td>174</td>\n",
       "    </tr>\n",
       "    <tr>\n",
       "      <th>4</th>\n",
       "      <td>hombre</td>\n",
       "      <td>45</td>\n",
       "      <td>79</td>\n",
       "      <td>185</td>\n",
       "    </tr>\n",
       "    <tr>\n",
       "      <th>5</th>\n",
       "      <td>hombre</td>\n",
       "      <td>54</td>\n",
       "      <td>75</td>\n",
       "      <td>176</td>\n",
       "    </tr>\n",
       "    <tr>\n",
       "      <th>6</th>\n",
       "      <td>hombre</td>\n",
       "      <td>57</td>\n",
       "      <td>82</td>\n",
       "      <td>183</td>\n",
       "    </tr>\n",
       "    <tr>\n",
       "      <th>7</th>\n",
       "      <td>hombre</td>\n",
       "      <td>57</td>\n",
       "      <td>85</td>\n",
       "      <td>185</td>\n",
       "    </tr>\n",
       "    <tr>\n",
       "      <th>8</th>\n",
       "      <td>hombre</td>\n",
       "      <td>65</td>\n",
       "      <td>93</td>\n",
       "      <td>178</td>\n",
       "    </tr>\n",
       "    <tr>\n",
       "      <th>9</th>\n",
       "      <td>hombre</td>\n",
       "      <td>75</td>\n",
       "      <td>100</td>\n",
       "      <td>185</td>\n",
       "    </tr>\n",
       "    <tr>\n",
       "      <th>10</th>\n",
       "      <td>hombre</td>\n",
       "      <td>87</td>\n",
       "      <td>68</td>\n",
       "      <td>168</td>\n",
       "    </tr>\n",
       "    <tr>\n",
       "      <th>11</th>\n",
       "      <td>hombre</td>\n",
       "      <td>89</td>\n",
       "      <td>76</td>\n",
       "      <td>178</td>\n",
       "    </tr>\n",
       "  </tbody>\n",
       "</table>\n",
       "</div>"
      ],
      "text/plain": [
       "      sexo  edad  peso  altura\n",
       "0   hombre    12    38     139\n",
       "1   hombre    23    73     183\n",
       "2   hombre    23    78     182\n",
       "3   hombre    35    86     174\n",
       "4   hombre    45    79     185\n",
       "5   hombre    54    75     176\n",
       "6   hombre    57    82     183\n",
       "7   hombre    57    85     185\n",
       "8   hombre    65    93     178\n",
       "9   hombre    75   100     185\n",
       "10  hombre    87    68     168\n",
       "11  hombre    89    76     178"
      ]
     },
     "execution_count": 111,
     "metadata": {},
     "output_type": "execute_result"
    }
   ],
   "source": [
    "biometricos_h.pop(\"aleatorio_h\")\n",
    "biometricos_h"
   ]
  },
  {
   "cell_type": "markdown",
   "id": "ddad1051",
   "metadata": {},
   "source": [
    "Operaciones con bases de datos"
   ]
  },
  {
   "cell_type": "code",
   "execution_count": 112,
   "id": "3af5a6ae",
   "metadata": {},
   "outputs": [
    {
     "data": {
      "text/html": [
       "<div>\n",
       "<style scoped>\n",
       "    .dataframe tbody tr th:only-of-type {\n",
       "        vertical-align: middle;\n",
       "    }\n",
       "\n",
       "    .dataframe tbody tr th {\n",
       "        vertical-align: top;\n",
       "    }\n",
       "\n",
       "    .dataframe thead th {\n",
       "        text-align: right;\n",
       "    }\n",
       "</style>\n",
       "<table border=\"1\" class=\"dataframe\">\n",
       "  <thead>\n",
       "    <tr style=\"text-align: right;\">\n",
       "      <th></th>\n",
       "      <th>edad</th>\n",
       "      <th>peso</th>\n",
       "      <th>altura</th>\n",
       "      <th>IMC</th>\n",
       "    </tr>\n",
       "  </thead>\n",
       "  <tbody>\n",
       "    <tr>\n",
       "      <th>count</th>\n",
       "      <td>30.000000</td>\n",
       "      <td>30.000000</td>\n",
       "      <td>30.000000</td>\n",
       "      <td>30.000000</td>\n",
       "    </tr>\n",
       "    <tr>\n",
       "      <th>mean</th>\n",
       "      <td>48.866667</td>\n",
       "      <td>67.733333</td>\n",
       "      <td>168.466667</td>\n",
       "      <td>23.592667</td>\n",
       "    </tr>\n",
       "    <tr>\n",
       "      <th>std</th>\n",
       "      <td>23.298266</td>\n",
       "      <td>14.548216</td>\n",
       "      <td>11.202627</td>\n",
       "      <td>2.863546</td>\n",
       "    </tr>\n",
       "    <tr>\n",
       "      <th>min</th>\n",
       "      <td>12.000000</td>\n",
       "      <td>38.000000</td>\n",
       "      <td>139.000000</td>\n",
       "      <td>19.670000</td>\n",
       "    </tr>\n",
       "    <tr>\n",
       "      <th>25%</th>\n",
       "      <td>35.000000</td>\n",
       "      <td>55.500000</td>\n",
       "      <td>162.250000</td>\n",
       "      <td>21.537500</td>\n",
       "    </tr>\n",
       "    <tr>\n",
       "      <th>50%</th>\n",
       "      <td>46.000000</td>\n",
       "      <td>65.000000</td>\n",
       "      <td>167.000000</td>\n",
       "      <td>23.605000</td>\n",
       "    </tr>\n",
       "    <tr>\n",
       "      <th>75%</th>\n",
       "      <td>63.750000</td>\n",
       "      <td>77.500000</td>\n",
       "      <td>177.500000</td>\n",
       "      <td>24.190000</td>\n",
       "    </tr>\n",
       "    <tr>\n",
       "      <th>max</th>\n",
       "      <td>93.000000</td>\n",
       "      <td>100.000000</td>\n",
       "      <td>185.000000</td>\n",
       "      <td>29.750000</td>\n",
       "    </tr>\n",
       "  </tbody>\n",
       "</table>\n",
       "</div>"
      ],
      "text/plain": [
       "            edad        peso      altura        IMC\n",
       "count  30.000000   30.000000   30.000000  30.000000\n",
       "mean   48.866667   67.733333  168.466667  23.592667\n",
       "std    23.298266   14.548216   11.202627   2.863546\n",
       "min    12.000000   38.000000  139.000000  19.670000\n",
       "25%    35.000000   55.500000  162.250000  21.537500\n",
       "50%    46.000000   65.000000  167.000000  23.605000\n",
       "75%    63.750000   77.500000  177.500000  24.190000\n",
       "max    93.000000  100.000000  185.000000  29.750000"
      ]
     },
     "execution_count": 112,
     "metadata": {},
     "output_type": "execute_result"
    }
   ],
   "source": [
    "biometricos.describe()"
   ]
  },
  {
   "cell_type": "code",
   "execution_count": 118,
   "id": "30352d37",
   "metadata": {},
   "outputs": [
    {
     "name": "stdout",
     "output_type": "stream",
     "text": [
      "48.86666666666667\n",
      "11.202626949725348\n",
      "29.75\n",
      "12\n"
     ]
    }
   ],
   "source": [
    "print (biometricos[\"edad\"].mean())\n",
    "print (biometricos[\"altura\"].std())\n",
    "print (biometricos[\"IMC\"].max())\n",
    "print (biometricos[\"edad\"].min())"
   ]
  },
  {
   "cell_type": "code",
   "execution_count": 120,
   "id": "8c03a485",
   "metadata": {},
   "outputs": [
    {
     "data": {
      "text/plain": [
       "1466"
      ]
     },
     "execution_count": 120,
     "metadata": {},
     "output_type": "execute_result"
    }
   ],
   "source": [
    "biometricos[\"edad\"].sum()"
   ]
  },
  {
   "cell_type": "code",
   "execution_count": 121,
   "id": "220ae782",
   "metadata": {},
   "outputs": [
    {
     "data": {
      "text/plain": [
       "707.78"
      ]
     },
     "execution_count": 121,
     "metadata": {},
     "output_type": "execute_result"
    }
   ],
   "source": [
    "biometricos[\"IMC\"].sum()"
   ]
  },
  {
   "cell_type": "code",
   "execution_count": 122,
   "id": "c867907a",
   "metadata": {},
   "outputs": [
    {
     "data": {
      "text/plain": [
       "0     170.67\n",
       "1     279.09\n",
       "2     221.80\n",
       "3     254.21\n",
       "4     290.99\n",
       "5     228.55\n",
       "6     253.08\n",
       "7     264.49\n",
       "8     266.84\n",
       "9     237.41\n",
       "10    272.35\n",
       "11    289.22\n",
       "12    190.24\n",
       "13    199.06\n",
       "14    221.06\n",
       "15    211.77\n",
       "16    220.96\n",
       "17    238.70\n",
       "18    244.03\n",
       "19    206.45\n",
       "20    231.20\n",
       "21    228.13\n",
       "22    248.05\n",
       "23    252.42\n",
       "24    276.01\n",
       "25    213.09\n",
       "26    236.95\n",
       "27    230.66\n",
       "28    285.55\n",
       "29    264.75\n",
       "dtype: float64"
      ]
     },
     "execution_count": 122,
     "metadata": {},
     "output_type": "execute_result"
    }
   ],
   "source": [
    "biometricos[\"edad\"]+biometricos[\"IMC\"]+biometricos[\"altura\"]"
   ]
  },
  {
   "cell_type": "code",
   "execution_count": 123,
   "id": "778a5600",
   "metadata": {},
   "outputs": [
    {
     "data": {
      "text/plain": [
       "0      78.003333\n",
       "1     167.090000\n",
       "2      99.800000\n",
       "3     136.876667\n",
       "4     172.323333\n",
       "5     107.216667\n",
       "6     129.746667\n",
       "7     142.490000\n",
       "8     143.506667\n",
       "9     121.410000\n",
       "10    153.683333\n",
       "11    165.886667\n",
       "12     87.573333\n",
       "13     91.726667\n",
       "14    117.726667\n",
       "15    109.103333\n",
       "16    110.293333\n",
       "17    130.033333\n",
       "18    138.696667\n",
       "19     97.783333\n",
       "20    119.200000\n",
       "21    122.130000\n",
       "22    132.716667\n",
       "23    143.086667\n",
       "24    168.010000\n",
       "25    104.423333\n",
       "26    126.283333\n",
       "27    115.993333\n",
       "28    175.550000\n",
       "29    150.083333\n",
       "dtype: float64"
      ]
     },
     "execution_count": 123,
     "metadata": {},
     "output_type": "execute_result"
    }
   ],
   "source": [
    "biometricos[\"edad\"]+biometricos[\"IMC\"]+biometricos[\"altura\"]/3"
   ]
  },
  {
   "cell_type": "code",
   "execution_count": 125,
   "id": "e4b6ecb1",
   "metadata": {},
   "outputs": [
    {
     "data": {
      "text/html": [
       "<div>\n",
       "<style scoped>\n",
       "    .dataframe tbody tr th:only-of-type {\n",
       "        vertical-align: middle;\n",
       "    }\n",
       "\n",
       "    .dataframe tbody tr th {\n",
       "        vertical-align: top;\n",
       "    }\n",
       "\n",
       "    .dataframe thead th {\n",
       "        text-align: right;\n",
       "    }\n",
       "</style>\n",
       "<table border=\"1\" class=\"dataframe\">\n",
       "  <thead>\n",
       "    <tr style=\"text-align: right;\">\n",
       "      <th></th>\n",
       "      <th>sexo</th>\n",
       "      <th>edad</th>\n",
       "      <th>peso</th>\n",
       "      <th>altura</th>\n",
       "      <th>IMC</th>\n",
       "      <th>media biom</th>\n",
       "    </tr>\n",
       "  </thead>\n",
       "  <tbody>\n",
       "    <tr>\n",
       "      <th>0</th>\n",
       "      <td>hombre</td>\n",
       "      <td>12</td>\n",
       "      <td>38</td>\n",
       "      <td>139</td>\n",
       "      <td>19.67</td>\n",
       "      <td>78.003333</td>\n",
       "    </tr>\n",
       "    <tr>\n",
       "      <th>1</th>\n",
       "      <td>hombre</td>\n",
       "      <td>87</td>\n",
       "      <td>68</td>\n",
       "      <td>168</td>\n",
       "      <td>24.09</td>\n",
       "      <td>167.090000</td>\n",
       "    </tr>\n",
       "    <tr>\n",
       "      <th>2</th>\n",
       "      <td>hombre</td>\n",
       "      <td>17</td>\n",
       "      <td>73</td>\n",
       "      <td>183</td>\n",
       "      <td>21.80</td>\n",
       "      <td>99.800000</td>\n",
       "    </tr>\n",
       "    <tr>\n",
       "      <th>3</th>\n",
       "      <td>hombre</td>\n",
       "      <td>54</td>\n",
       "      <td>75</td>\n",
       "      <td>176</td>\n",
       "      <td>24.21</td>\n",
       "      <td>136.876667</td>\n",
       "    </tr>\n",
       "    <tr>\n",
       "      <th>4</th>\n",
       "      <td>hombre</td>\n",
       "      <td>89</td>\n",
       "      <td>76</td>\n",
       "      <td>178</td>\n",
       "      <td>23.99</td>\n",
       "      <td>172.323333</td>\n",
       "    </tr>\n",
       "  </tbody>\n",
       "</table>\n",
       "</div>"
      ],
      "text/plain": [
       "     sexo  edad  peso  altura    IMC  media biom\n",
       "0  hombre    12    38     139  19.67   78.003333\n",
       "1  hombre    87    68     168  24.09  167.090000\n",
       "2  hombre    17    73     183  21.80   99.800000\n",
       "3  hombre    54    75     176  24.21  136.876667\n",
       "4  hombre    89    76     178  23.99  172.323333"
      ]
     },
     "execution_count": 125,
     "metadata": {},
     "output_type": "execute_result"
    }
   ],
   "source": [
    "biometricos[\"media biom\"]=biometricos[\"edad\"]+biometricos[\"IMC\"]+biometricos[\"altura\"]/3\n",
    "\n",
    "biometricos.head(5)"
   ]
  },
  {
   "cell_type": "code",
   "execution_count": 131,
   "id": "e2fb7bcb",
   "metadata": {},
   "outputs": [
    {
     "data": {
      "text/html": [
       "<div>\n",
       "<style scoped>\n",
       "    .dataframe tbody tr th:only-of-type {\n",
       "        vertical-align: middle;\n",
       "    }\n",
       "\n",
       "    .dataframe tbody tr th {\n",
       "        vertical-align: top;\n",
       "    }\n",
       "\n",
       "    .dataframe thead th {\n",
       "        text-align: right;\n",
       "    }\n",
       "</style>\n",
       "<table border=\"1\" class=\"dataframe\">\n",
       "  <thead>\n",
       "    <tr style=\"text-align: right;\">\n",
       "      <th></th>\n",
       "      <th>sexo</th>\n",
       "      <th>edad</th>\n",
       "      <th>peso</th>\n",
       "      <th>altura</th>\n",
       "      <th>IMC</th>\n",
       "      <th>media biom</th>\n",
       "    </tr>\n",
       "  </thead>\n",
       "  <tbody>\n",
       "    <tr>\n",
       "      <th>27</th>\n",
       "      <td>mujer</td>\n",
       "      <td>35</td>\n",
       "      <td>70</td>\n",
       "      <td>172</td>\n",
       "      <td>23.66</td>\n",
       "      <td>115.993</td>\n",
       "    </tr>\n",
       "    <tr>\n",
       "      <th>28</th>\n",
       "      <td>mujer</td>\n",
       "      <td>93</td>\n",
       "      <td>75</td>\n",
       "      <td>165</td>\n",
       "      <td>27.55</td>\n",
       "      <td>175.550</td>\n",
       "    </tr>\n",
       "    <tr>\n",
       "      <th>29</th>\n",
       "      <td>mujer</td>\n",
       "      <td>63</td>\n",
       "      <td>88</td>\n",
       "      <td>172</td>\n",
       "      <td>29.75</td>\n",
       "      <td>150.083</td>\n",
       "    </tr>\n",
       "  </tbody>\n",
       "</table>\n",
       "</div>"
      ],
      "text/plain": [
       "     sexo  edad  peso  altura    IMC  media biom\n",
       "27  mujer    35    70     172  23.66     115.993\n",
       "28  mujer    93    75     165  27.55     175.550\n",
       "29  mujer    63    88     172  29.75     150.083"
      ]
     },
     "execution_count": 131,
     "metadata": {},
     "output_type": "execute_result"
    }
   ],
   "source": [
    "biometricos=biometricos.round (3)\n",
    "biometricos.tail (3)"
   ]
  },
  {
   "cell_type": "markdown",
   "id": "c139cd4e",
   "metadata": {},
   "source": [
    "contabilizar valores"
   ]
  },
  {
   "cell_type": "code",
   "execution_count": 133,
   "id": "526282fa",
   "metadata": {},
   "outputs": [
    {
     "data": {
      "text/plain": [
       "30"
      ]
     },
     "execution_count": 133,
     "metadata": {},
     "output_type": "execute_result"
    }
   ],
   "source": [
    "biometricos[\"edad\"].count()"
   ]
  },
  {
   "cell_type": "code",
   "execution_count": 134,
   "id": "87aed9bd",
   "metadata": {},
   "outputs": [
    {
     "data": {
      "text/plain": [
       "mujer     18\n",
       "hombre    12\n",
       "Name: sexo, dtype: int64"
      ]
     },
     "execution_count": 134,
     "metadata": {},
     "output_type": "execute_result"
    }
   ],
   "source": [
    "biometricos[\"sexo\"].value_counts()"
   ]
  },
  {
   "cell_type": "code",
   "execution_count": 135,
   "id": "3222f82a",
   "metadata": {},
   "outputs": [
    {
     "data": {
      "text/plain": [
       "mujer     0.6\n",
       "hombre    0.4\n",
       "Name: sexo, dtype: float64"
      ]
     },
     "execution_count": 135,
     "metadata": {},
     "output_type": "execute_result"
    }
   ],
   "source": [
    "biometricos[\"sexo\"].value_counts(normalize=True)"
   ]
  },
  {
   "cell_type": "markdown",
   "id": "871e9167",
   "metadata": {},
   "source": [
    "clasificar datos"
   ]
  },
  {
   "cell_type": "code",
   "execution_count": 137,
   "id": "e840565a",
   "metadata": {},
   "outputs": [
    {
     "data": {
      "text/html": [
       "<div>\n",
       "<style scoped>\n",
       "    .dataframe tbody tr th:only-of-type {\n",
       "        vertical-align: middle;\n",
       "    }\n",
       "\n",
       "    .dataframe tbody tr th {\n",
       "        vertical-align: top;\n",
       "    }\n",
       "\n",
       "    .dataframe thead th {\n",
       "        text-align: right;\n",
       "    }\n",
       "</style>\n",
       "<table border=\"1\" class=\"dataframe\">\n",
       "  <thead>\n",
       "    <tr style=\"text-align: right;\">\n",
       "      <th></th>\n",
       "      <th>sexo</th>\n",
       "      <th>edad</th>\n",
       "      <th>peso</th>\n",
       "      <th>altura</th>\n",
       "    </tr>\n",
       "  </thead>\n",
       "  <tbody>\n",
       "    <tr>\n",
       "      <th>0</th>\n",
       "      <td>hombre</td>\n",
       "      <td>12</td>\n",
       "      <td>38</td>\n",
       "      <td>139</td>\n",
       "    </tr>\n",
       "    <tr>\n",
       "      <th>10</th>\n",
       "      <td>hombre</td>\n",
       "      <td>87</td>\n",
       "      <td>68</td>\n",
       "      <td>168</td>\n",
       "    </tr>\n",
       "    <tr>\n",
       "      <th>3</th>\n",
       "      <td>hombre</td>\n",
       "      <td>35</td>\n",
       "      <td>86</td>\n",
       "      <td>174</td>\n",
       "    </tr>\n",
       "    <tr>\n",
       "      <th>5</th>\n",
       "      <td>hombre</td>\n",
       "      <td>54</td>\n",
       "      <td>75</td>\n",
       "      <td>176</td>\n",
       "    </tr>\n",
       "    <tr>\n",
       "      <th>8</th>\n",
       "      <td>hombre</td>\n",
       "      <td>65</td>\n",
       "      <td>93</td>\n",
       "      <td>178</td>\n",
       "    </tr>\n",
       "    <tr>\n",
       "      <th>11</th>\n",
       "      <td>hombre</td>\n",
       "      <td>89</td>\n",
       "      <td>76</td>\n",
       "      <td>178</td>\n",
       "    </tr>\n",
       "    <tr>\n",
       "      <th>2</th>\n",
       "      <td>hombre</td>\n",
       "      <td>23</td>\n",
       "      <td>78</td>\n",
       "      <td>182</td>\n",
       "    </tr>\n",
       "    <tr>\n",
       "      <th>1</th>\n",
       "      <td>hombre</td>\n",
       "      <td>23</td>\n",
       "      <td>73</td>\n",
       "      <td>183</td>\n",
       "    </tr>\n",
       "    <tr>\n",
       "      <th>6</th>\n",
       "      <td>hombre</td>\n",
       "      <td>57</td>\n",
       "      <td>82</td>\n",
       "      <td>183</td>\n",
       "    </tr>\n",
       "    <tr>\n",
       "      <th>4</th>\n",
       "      <td>hombre</td>\n",
       "      <td>45</td>\n",
       "      <td>79</td>\n",
       "      <td>185</td>\n",
       "    </tr>\n",
       "    <tr>\n",
       "      <th>7</th>\n",
       "      <td>hombre</td>\n",
       "      <td>57</td>\n",
       "      <td>85</td>\n",
       "      <td>185</td>\n",
       "    </tr>\n",
       "    <tr>\n",
       "      <th>9</th>\n",
       "      <td>hombre</td>\n",
       "      <td>75</td>\n",
       "      <td>100</td>\n",
       "      <td>185</td>\n",
       "    </tr>\n",
       "  </tbody>\n",
       "</table>\n",
       "</div>"
      ],
      "text/plain": [
       "      sexo  edad  peso  altura\n",
       "0   hombre    12    38     139\n",
       "10  hombre    87    68     168\n",
       "3   hombre    35    86     174\n",
       "5   hombre    54    75     176\n",
       "8   hombre    65    93     178\n",
       "11  hombre    89    76     178\n",
       "2   hombre    23    78     182\n",
       "1   hombre    23    73     183\n",
       "6   hombre    57    82     183\n",
       "4   hombre    45    79     185\n",
       "7   hombre    57    85     185\n",
       "9   hombre    75   100     185"
      ]
     },
     "execution_count": 137,
     "metadata": {},
     "output_type": "execute_result"
    }
   ],
   "source": [
    "biometricos_h.sort_values(\"altura\")"
   ]
  },
  {
   "cell_type": "code",
   "execution_count": 138,
   "id": "33b42bc1",
   "metadata": {},
   "outputs": [
    {
     "data": {
      "text/html": [
       "<div>\n",
       "<style scoped>\n",
       "    .dataframe tbody tr th:only-of-type {\n",
       "        vertical-align: middle;\n",
       "    }\n",
       "\n",
       "    .dataframe tbody tr th {\n",
       "        vertical-align: top;\n",
       "    }\n",
       "\n",
       "    .dataframe thead th {\n",
       "        text-align: right;\n",
       "    }\n",
       "</style>\n",
       "<table border=\"1\" class=\"dataframe\">\n",
       "  <thead>\n",
       "    <tr style=\"text-align: right;\">\n",
       "      <th></th>\n",
       "      <th>sexo</th>\n",
       "      <th>edad</th>\n",
       "      <th>peso</th>\n",
       "      <th>altura</th>\n",
       "    </tr>\n",
       "  </thead>\n",
       "  <tbody>\n",
       "    <tr>\n",
       "      <th>4</th>\n",
       "      <td>hombre</td>\n",
       "      <td>45</td>\n",
       "      <td>79</td>\n",
       "      <td>185</td>\n",
       "    </tr>\n",
       "    <tr>\n",
       "      <th>7</th>\n",
       "      <td>hombre</td>\n",
       "      <td>57</td>\n",
       "      <td>85</td>\n",
       "      <td>185</td>\n",
       "    </tr>\n",
       "    <tr>\n",
       "      <th>9</th>\n",
       "      <td>hombre</td>\n",
       "      <td>75</td>\n",
       "      <td>100</td>\n",
       "      <td>185</td>\n",
       "    </tr>\n",
       "    <tr>\n",
       "      <th>1</th>\n",
       "      <td>hombre</td>\n",
       "      <td>23</td>\n",
       "      <td>73</td>\n",
       "      <td>183</td>\n",
       "    </tr>\n",
       "    <tr>\n",
       "      <th>6</th>\n",
       "      <td>hombre</td>\n",
       "      <td>57</td>\n",
       "      <td>82</td>\n",
       "      <td>183</td>\n",
       "    </tr>\n",
       "    <tr>\n",
       "      <th>2</th>\n",
       "      <td>hombre</td>\n",
       "      <td>23</td>\n",
       "      <td>78</td>\n",
       "      <td>182</td>\n",
       "    </tr>\n",
       "    <tr>\n",
       "      <th>8</th>\n",
       "      <td>hombre</td>\n",
       "      <td>65</td>\n",
       "      <td>93</td>\n",
       "      <td>178</td>\n",
       "    </tr>\n",
       "    <tr>\n",
       "      <th>11</th>\n",
       "      <td>hombre</td>\n",
       "      <td>89</td>\n",
       "      <td>76</td>\n",
       "      <td>178</td>\n",
       "    </tr>\n",
       "    <tr>\n",
       "      <th>5</th>\n",
       "      <td>hombre</td>\n",
       "      <td>54</td>\n",
       "      <td>75</td>\n",
       "      <td>176</td>\n",
       "    </tr>\n",
       "    <tr>\n",
       "      <th>3</th>\n",
       "      <td>hombre</td>\n",
       "      <td>35</td>\n",
       "      <td>86</td>\n",
       "      <td>174</td>\n",
       "    </tr>\n",
       "    <tr>\n",
       "      <th>10</th>\n",
       "      <td>hombre</td>\n",
       "      <td>87</td>\n",
       "      <td>68</td>\n",
       "      <td>168</td>\n",
       "    </tr>\n",
       "    <tr>\n",
       "      <th>0</th>\n",
       "      <td>hombre</td>\n",
       "      <td>12</td>\n",
       "      <td>38</td>\n",
       "      <td>139</td>\n",
       "    </tr>\n",
       "  </tbody>\n",
       "</table>\n",
       "</div>"
      ],
      "text/plain": [
       "      sexo  edad  peso  altura\n",
       "4   hombre    45    79     185\n",
       "7   hombre    57    85     185\n",
       "9   hombre    75   100     185\n",
       "1   hombre    23    73     183\n",
       "6   hombre    57    82     183\n",
       "2   hombre    23    78     182\n",
       "8   hombre    65    93     178\n",
       "11  hombre    89    76     178\n",
       "5   hombre    54    75     176\n",
       "3   hombre    35    86     174\n",
       "10  hombre    87    68     168\n",
       "0   hombre    12    38     139"
      ]
     },
     "execution_count": 138,
     "metadata": {},
     "output_type": "execute_result"
    }
   ],
   "source": [
    "biometricos_h.sort_values(\"altura\", ascending=False)"
   ]
  },
  {
   "cell_type": "code",
   "execution_count": 139,
   "id": "4dd561f6",
   "metadata": {},
   "outputs": [
    {
     "data": {
      "text/html": [
       "<div>\n",
       "<style scoped>\n",
       "    .dataframe tbody tr th:only-of-type {\n",
       "        vertical-align: middle;\n",
       "    }\n",
       "\n",
       "    .dataframe tbody tr th {\n",
       "        vertical-align: top;\n",
       "    }\n",
       "\n",
       "    .dataframe thead th {\n",
       "        text-align: right;\n",
       "    }\n",
       "</style>\n",
       "<table border=\"1\" class=\"dataframe\">\n",
       "  <thead>\n",
       "    <tr style=\"text-align: right;\">\n",
       "      <th></th>\n",
       "      <th>sexo</th>\n",
       "      <th>edad</th>\n",
       "      <th>peso</th>\n",
       "      <th>altura</th>\n",
       "    </tr>\n",
       "  </thead>\n",
       "  <tbody>\n",
       "    <tr>\n",
       "      <th>0</th>\n",
       "      <td>hombre</td>\n",
       "      <td>12</td>\n",
       "      <td>38</td>\n",
       "      <td>139</td>\n",
       "    </tr>\n",
       "    <tr>\n",
       "      <th>10</th>\n",
       "      <td>hombre</td>\n",
       "      <td>87</td>\n",
       "      <td>68</td>\n",
       "      <td>168</td>\n",
       "    </tr>\n",
       "    <tr>\n",
       "      <th>3</th>\n",
       "      <td>hombre</td>\n",
       "      <td>35</td>\n",
       "      <td>86</td>\n",
       "      <td>174</td>\n",
       "    </tr>\n",
       "    <tr>\n",
       "      <th>5</th>\n",
       "      <td>hombre</td>\n",
       "      <td>54</td>\n",
       "      <td>75</td>\n",
       "      <td>176</td>\n",
       "    </tr>\n",
       "    <tr>\n",
       "      <th>8</th>\n",
       "      <td>hombre</td>\n",
       "      <td>65</td>\n",
       "      <td>93</td>\n",
       "      <td>178</td>\n",
       "    </tr>\n",
       "    <tr>\n",
       "      <th>11</th>\n",
       "      <td>hombre</td>\n",
       "      <td>89</td>\n",
       "      <td>76</td>\n",
       "      <td>178</td>\n",
       "    </tr>\n",
       "    <tr>\n",
       "      <th>2</th>\n",
       "      <td>hombre</td>\n",
       "      <td>23</td>\n",
       "      <td>78</td>\n",
       "      <td>182</td>\n",
       "    </tr>\n",
       "    <tr>\n",
       "      <th>1</th>\n",
       "      <td>hombre</td>\n",
       "      <td>23</td>\n",
       "      <td>73</td>\n",
       "      <td>183</td>\n",
       "    </tr>\n",
       "    <tr>\n",
       "      <th>6</th>\n",
       "      <td>hombre</td>\n",
       "      <td>57</td>\n",
       "      <td>82</td>\n",
       "      <td>183</td>\n",
       "    </tr>\n",
       "    <tr>\n",
       "      <th>4</th>\n",
       "      <td>hombre</td>\n",
       "      <td>45</td>\n",
       "      <td>79</td>\n",
       "      <td>185</td>\n",
       "    </tr>\n",
       "    <tr>\n",
       "      <th>7</th>\n",
       "      <td>hombre</td>\n",
       "      <td>57</td>\n",
       "      <td>85</td>\n",
       "      <td>185</td>\n",
       "    </tr>\n",
       "    <tr>\n",
       "      <th>9</th>\n",
       "      <td>hombre</td>\n",
       "      <td>75</td>\n",
       "      <td>100</td>\n",
       "      <td>185</td>\n",
       "    </tr>\n",
       "  </tbody>\n",
       "</table>\n",
       "</div>"
      ],
      "text/plain": [
       "      sexo  edad  peso  altura\n",
       "0   hombre    12    38     139\n",
       "10  hombre    87    68     168\n",
       "3   hombre    35    86     174\n",
       "5   hombre    54    75     176\n",
       "8   hombre    65    93     178\n",
       "11  hombre    89    76     178\n",
       "2   hombre    23    78     182\n",
       "1   hombre    23    73     183\n",
       "6   hombre    57    82     183\n",
       "4   hombre    45    79     185\n",
       "7   hombre    57    85     185\n",
       "9   hombre    75   100     185"
      ]
     },
     "execution_count": 139,
     "metadata": {},
     "output_type": "execute_result"
    }
   ],
   "source": [
    "biometricos_h.sort_values ([\"altura\",\"edad\"])"
   ]
  },
  {
   "cell_type": "code",
   "execution_count": 140,
   "id": "29735ad1",
   "metadata": {},
   "outputs": [
    {
     "data": {
      "text/html": [
       "<div>\n",
       "<style scoped>\n",
       "    .dataframe tbody tr th:only-of-type {\n",
       "        vertical-align: middle;\n",
       "    }\n",
       "\n",
       "    .dataframe tbody tr th {\n",
       "        vertical-align: top;\n",
       "    }\n",
       "\n",
       "    .dataframe thead th {\n",
       "        text-align: right;\n",
       "    }\n",
       "</style>\n",
       "<table border=\"1\" class=\"dataframe\">\n",
       "  <thead>\n",
       "    <tr style=\"text-align: right;\">\n",
       "      <th></th>\n",
       "      <th>sexo</th>\n",
       "      <th>edad</th>\n",
       "      <th>peso</th>\n",
       "      <th>altura</th>\n",
       "    </tr>\n",
       "  </thead>\n",
       "  <tbody>\n",
       "    <tr>\n",
       "      <th>0</th>\n",
       "      <td>hombre</td>\n",
       "      <td>12</td>\n",
       "      <td>38</td>\n",
       "      <td>139</td>\n",
       "    </tr>\n",
       "    <tr>\n",
       "      <th>1</th>\n",
       "      <td>hombre</td>\n",
       "      <td>23</td>\n",
       "      <td>73</td>\n",
       "      <td>183</td>\n",
       "    </tr>\n",
       "    <tr>\n",
       "      <th>2</th>\n",
       "      <td>hombre</td>\n",
       "      <td>23</td>\n",
       "      <td>78</td>\n",
       "      <td>182</td>\n",
       "    </tr>\n",
       "    <tr>\n",
       "      <th>3</th>\n",
       "      <td>hombre</td>\n",
       "      <td>35</td>\n",
       "      <td>86</td>\n",
       "      <td>174</td>\n",
       "    </tr>\n",
       "    <tr>\n",
       "      <th>4</th>\n",
       "      <td>hombre</td>\n",
       "      <td>45</td>\n",
       "      <td>79</td>\n",
       "      <td>185</td>\n",
       "    </tr>\n",
       "    <tr>\n",
       "      <th>5</th>\n",
       "      <td>hombre</td>\n",
       "      <td>54</td>\n",
       "      <td>75</td>\n",
       "      <td>176</td>\n",
       "    </tr>\n",
       "    <tr>\n",
       "      <th>6</th>\n",
       "      <td>hombre</td>\n",
       "      <td>57</td>\n",
       "      <td>82</td>\n",
       "      <td>183</td>\n",
       "    </tr>\n",
       "    <tr>\n",
       "      <th>7</th>\n",
       "      <td>hombre</td>\n",
       "      <td>57</td>\n",
       "      <td>85</td>\n",
       "      <td>185</td>\n",
       "    </tr>\n",
       "    <tr>\n",
       "      <th>8</th>\n",
       "      <td>hombre</td>\n",
       "      <td>65</td>\n",
       "      <td>93</td>\n",
       "      <td>178</td>\n",
       "    </tr>\n",
       "    <tr>\n",
       "      <th>9</th>\n",
       "      <td>hombre</td>\n",
       "      <td>75</td>\n",
       "      <td>100</td>\n",
       "      <td>185</td>\n",
       "    </tr>\n",
       "    <tr>\n",
       "      <th>10</th>\n",
       "      <td>hombre</td>\n",
       "      <td>87</td>\n",
       "      <td>68</td>\n",
       "      <td>168</td>\n",
       "    </tr>\n",
       "    <tr>\n",
       "      <th>11</th>\n",
       "      <td>hombre</td>\n",
       "      <td>89</td>\n",
       "      <td>76</td>\n",
       "      <td>178</td>\n",
       "    </tr>\n",
       "  </tbody>\n",
       "</table>\n",
       "</div>"
      ],
      "text/plain": [
       "      sexo  edad  peso  altura\n",
       "0   hombre    12    38     139\n",
       "1   hombre    23    73     183\n",
       "2   hombre    23    78     182\n",
       "3   hombre    35    86     174\n",
       "4   hombre    45    79     185\n",
       "5   hombre    54    75     176\n",
       "6   hombre    57    82     183\n",
       "7   hombre    57    85     185\n",
       "8   hombre    65    93     178\n",
       "9   hombre    75   100     185\n",
       "10  hombre    87    68     168\n",
       "11  hombre    89    76     178"
      ]
     },
     "execution_count": 140,
     "metadata": {},
     "output_type": "execute_result"
    }
   ],
   "source": [
    "biometricos_h"
   ]
  },
  {
   "cell_type": "code",
   "execution_count": 141,
   "id": "80e5c90f",
   "metadata": {},
   "outputs": [
    {
     "data": {
      "text/html": [
       "<div>\n",
       "<style scoped>\n",
       "    .dataframe tbody tr th:only-of-type {\n",
       "        vertical-align: middle;\n",
       "    }\n",
       "\n",
       "    .dataframe tbody tr th {\n",
       "        vertical-align: top;\n",
       "    }\n",
       "\n",
       "    .dataframe thead th {\n",
       "        text-align: right;\n",
       "    }\n",
       "</style>\n",
       "<table border=\"1\" class=\"dataframe\">\n",
       "  <thead>\n",
       "    <tr style=\"text-align: right;\">\n",
       "      <th></th>\n",
       "      <th>sexo</th>\n",
       "      <th>edad</th>\n",
       "      <th>peso</th>\n",
       "      <th>altura</th>\n",
       "    </tr>\n",
       "  </thead>\n",
       "  <tbody>\n",
       "    <tr>\n",
       "      <th>0</th>\n",
       "      <td>hombre</td>\n",
       "      <td>12</td>\n",
       "      <td>38</td>\n",
       "      <td>139</td>\n",
       "    </tr>\n",
       "    <tr>\n",
       "      <th>10</th>\n",
       "      <td>hombre</td>\n",
       "      <td>87</td>\n",
       "      <td>68</td>\n",
       "      <td>168</td>\n",
       "    </tr>\n",
       "    <tr>\n",
       "      <th>3</th>\n",
       "      <td>hombre</td>\n",
       "      <td>35</td>\n",
       "      <td>86</td>\n",
       "      <td>174</td>\n",
       "    </tr>\n",
       "    <tr>\n",
       "      <th>5</th>\n",
       "      <td>hombre</td>\n",
       "      <td>54</td>\n",
       "      <td>75</td>\n",
       "      <td>176</td>\n",
       "    </tr>\n",
       "    <tr>\n",
       "      <th>8</th>\n",
       "      <td>hombre</td>\n",
       "      <td>65</td>\n",
       "      <td>93</td>\n",
       "      <td>178</td>\n",
       "    </tr>\n",
       "    <tr>\n",
       "      <th>11</th>\n",
       "      <td>hombre</td>\n",
       "      <td>89</td>\n",
       "      <td>76</td>\n",
       "      <td>178</td>\n",
       "    </tr>\n",
       "    <tr>\n",
       "      <th>2</th>\n",
       "      <td>hombre</td>\n",
       "      <td>23</td>\n",
       "      <td>78</td>\n",
       "      <td>182</td>\n",
       "    </tr>\n",
       "    <tr>\n",
       "      <th>1</th>\n",
       "      <td>hombre</td>\n",
       "      <td>23</td>\n",
       "      <td>73</td>\n",
       "      <td>183</td>\n",
       "    </tr>\n",
       "    <tr>\n",
       "      <th>6</th>\n",
       "      <td>hombre</td>\n",
       "      <td>57</td>\n",
       "      <td>82</td>\n",
       "      <td>183</td>\n",
       "    </tr>\n",
       "    <tr>\n",
       "      <th>4</th>\n",
       "      <td>hombre</td>\n",
       "      <td>45</td>\n",
       "      <td>79</td>\n",
       "      <td>185</td>\n",
       "    </tr>\n",
       "    <tr>\n",
       "      <th>7</th>\n",
       "      <td>hombre</td>\n",
       "      <td>57</td>\n",
       "      <td>85</td>\n",
       "      <td>185</td>\n",
       "    </tr>\n",
       "    <tr>\n",
       "      <th>9</th>\n",
       "      <td>hombre</td>\n",
       "      <td>75</td>\n",
       "      <td>100</td>\n",
       "      <td>185</td>\n",
       "    </tr>\n",
       "  </tbody>\n",
       "</table>\n",
       "</div>"
      ],
      "text/plain": [
       "      sexo  edad  peso  altura\n",
       "0   hombre    12    38     139\n",
       "10  hombre    87    68     168\n",
       "3   hombre    35    86     174\n",
       "5   hombre    54    75     176\n",
       "8   hombre    65    93     178\n",
       "11  hombre    89    76     178\n",
       "2   hombre    23    78     182\n",
       "1   hombre    23    73     183\n",
       "6   hombre    57    82     183\n",
       "4   hombre    45    79     185\n",
       "7   hombre    57    85     185\n",
       "9   hombre    75   100     185"
      ]
     },
     "execution_count": 141,
     "metadata": {},
     "output_type": "execute_result"
    }
   ],
   "source": [
    "biometricos_h.sort_values ([\"altura\",\"edad\"], inplace=True)\n",
    "biometricos_h"
   ]
  }
 ],
 "metadata": {
  "kernelspec": {
   "display_name": "Python 3 (ipykernel)",
   "language": "python",
   "name": "python3"
  },
  "language_info": {
   "codemirror_mode": {
    "name": "ipython",
    "version": 3
   },
   "file_extension": ".py",
   "mimetype": "text/x-python",
   "name": "python",
   "nbconvert_exporter": "python",
   "pygments_lexer": "ipython3",
   "version": "3.9.12"
  }
 },
 "nbformat": 4,
 "nbformat_minor": 5
}
